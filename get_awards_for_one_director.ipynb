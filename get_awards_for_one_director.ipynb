{
 "cells": [
  {
   "cell_type": "markdown",
   "metadata": {},
   "source": [
    "# Retrieve awards for a director (or actor)"
   ]
  },
  {
   "cell_type": "code",
   "execution_count": 6,
   "metadata": {
    "collapsed": true
   },
   "outputs": [],
   "source": [
    "import numpy as np\n",
    "import pandas as pd\n",
    "import time\n",
    "from bs4 import BeautifulSoup\n",
    "import json\n",
    "import requests\n",
    "import random\n"
   ]
  },
  {
   "cell_type": "code",
   "execution_count": 22,
   "metadata": {},
   "outputs": [],
   "source": [
    "import numpy as np\n",
    "import pandas as pd\n",
    "\n",
    "\n",
    "df_award = pd.read_csv(\"spielberg_awards.csv\", sep=\",\", engine='python')"
   ]
  },
  {
   "cell_type": "code",
   "execution_count": 7,
   "metadata": {
    "collapsed": true
   },
   "outputs": [],
   "source": [
    "director_name=\"steven spielberg\""
   ]
  },
  {
   "cell_type": "code",
   "execution_count": 11,
   "metadata": {},
   "outputs": [
    {
     "name": "stdout",
     "output_type": "stream",
     "text": [
      "steven%20spielberg:imdbID = nm0000229\n"
     ]
    }
   ],
   "source": [
    "#let's get tmdb_id from director_name\n",
    "director = director_name.replace(\" \",\"%20\")\n",
    "query_for_tmdbID = \"https://api.themoviedb.org/3/search/person?api_key=04fe0efd7c6e8c505128686c70ae5825&query=\"+director\n",
    "results = requests.get(query_for_tmdbID)\n",
    "dic_results = json.loads(results.text)\n",
    "try:\n",
    "    tmdbID = dic_results[\"results\"][0][\"id\"]\n",
    "\n",
    "    #let's get imdb_id from tmdb_id\n",
    "    query_for_imdbID = \"https://api.themoviedb.org/3/person/\"+str(tmdbID)+\"/external_ids?api_key=04fe0efd7c6e8c505128686c70ae5825\"\n",
    "    results = requests.get(query_for_imdbID)\n",
    "    dic_results = json.loads(results.text)\n",
    "    imdbID = dic_results[\"imdb_id\"]\n",
    "    print(director_name+\" : imdbID = \"+imdbID)\n",
    "except:\n",
    "    print(\"director not found\")\n"
   ]
  },
  {
   "cell_type": "code",
   "execution_count": 12,
   "metadata": {},
   "outputs": [
    {
     "data": {
      "text/html": [
       "<div>\n",
       "<style>\n",
       "    .dataframe thead tr:only-child th {\n",
       "        text-align: right;\n",
       "    }\n",
       "\n",
       "    .dataframe thead th {\n",
       "        text-align: left;\n",
       "    }\n",
       "\n",
       "    .dataframe tbody tr th {\n",
       "        vertical-align: top;\n",
       "    }\n",
       "</style>\n",
       "<table border=\"1\" class=\"dataframe\">\n",
       "  <thead>\n",
       "    <tr style=\"text-align: right;\">\n",
       "      <th></th>\n",
       "      <th>name</th>\n",
       "      <th>ceremony</th>\n",
       "      <th>year</th>\n",
       "      <th>category</th>\n",
       "      <th>outcome</th>\n",
       "    </tr>\n",
       "  </thead>\n",
       "  <tbody>\n",
       "    <tr>\n",
       "      <th>327</th>\n",
       "      <td>steven spielberg</td>\n",
       "      <td>WorldFest Houston</td>\n",
       "      <td>1972</td>\n",
       "      <td>Gold Remi Award</td>\n",
       "      <td>Won</td>\n",
       "    </tr>\n",
       "    <tr>\n",
       "      <th>328</th>\n",
       "      <td>steven spielberg</td>\n",
       "      <td>Writers Guild of America, USA</td>\n",
       "      <td>1978</td>\n",
       "      <td>WGA Award (Screen)</td>\n",
       "      <td>Nominated</td>\n",
       "    </tr>\n",
       "    <tr>\n",
       "      <th>329</th>\n",
       "      <td>steven spielberg</td>\n",
       "      <td>Writers Guild of America, USA</td>\n",
       "      <td>1975</td>\n",
       "      <td>WGA Award (Screen)</td>\n",
       "      <td>Nominated</td>\n",
       "    </tr>\n",
       "    <tr>\n",
       "      <th>330</th>\n",
       "      <td>steven spielberg</td>\n",
       "      <td>Yoga Awards</td>\n",
       "      <td>1994</td>\n",
       "      <td>Yoga Award</td>\n",
       "      <td>Won</td>\n",
       "    </tr>\n",
       "    <tr>\n",
       "      <th>331</th>\n",
       "      <td>steven spielberg</td>\n",
       "      <td>Young Artist Awards</td>\n",
       "      <td>1994</td>\n",
       "      <td>Jackie Coogan Award</td>\n",
       "      <td>Won</td>\n",
       "    </tr>\n",
       "  </tbody>\n",
       "</table>\n",
       "</div>"
      ],
      "text/plain": [
       "                 name                       ceremony  year  \\\n",
       "327  steven spielberg              WorldFest Houston  1972   \n",
       "328  steven spielberg  Writers Guild of America, USA  1978   \n",
       "329  steven spielberg  Writers Guild of America, USA  1975   \n",
       "330  steven spielberg                    Yoga Awards  1994   \n",
       "331  steven spielberg            Young Artist Awards  1994   \n",
       "\n",
       "                category    outcome  \n",
       "327      Gold Remi Award        Won  \n",
       "328   WGA Award (Screen)  Nominated  \n",
       "329   WGA Award (Screen)  Nominated  \n",
       "330           Yoga Award        Won  \n",
       "331  Jackie Coogan Award        Won  "
      ]
     },
     "execution_count": 12,
     "metadata": {},
     "output_type": "execute_result"
    }
   ],
   "source": [
    "#query IMDB\n",
    "url = \"http://www.imdb.com/name/\"+imdbID+\"/awards\"\n",
    "r  = requests.get(url)\n",
    "data = r.text\n",
    "soup = BeautifulSoup(data,\"lxml\")\n",
    "\n",
    "df_award=pd.DataFrame(columns=['name','ceremony','year','category','outcome'])\n",
    "\n",
    "# Find all of the text between paragraph tags and strip out the html\n",
    "itag=0\n",
    "collection_tag =soup.find_all()\n",
    "while itag<len(collection_tag):\n",
    "    tag=collection_tag[itag]\n",
    "    tagtext = tag.text.lower()\n",
    "    #We stop at each award_ceremony, to get all award_years\n",
    "    if tag.name==\"h3\" and director_name.lower() not in tagtext and \"imdb\" not in tagtext and \"user\" not in tagtext :\n",
    "        ceremony = tag.text\n",
    "        #let's go through each year and stop at next H3 tag\n",
    "        allow_next=True\n",
    "        while allow_next:\n",
    "            itag+=1\n",
    "            tag=collection_tag[itag]\n",
    "            #let's go through all tags and find outcome(s)/category(s) for each year\n",
    "            stay_on_tag=True\n",
    "            for key,value in tag.attrs.items():\n",
    "                if not stay_on_tag:\n",
    "                    break\n",
    "                if key==\"class\":\n",
    "                    if value[0]==\"award_year\":\n",
    "                        year=int(collection_tag[itag].text)\n",
    "                        stay_on_tag=False\n",
    "                    elif value[0]==\"award_outcome\":                        \n",
    "                        outcome=collection_tag[itag+1].text\n",
    "                    elif value[0]==\"award_category\":\n",
    "                        category=collection_tag[itag].text\n",
    "                        #we should have a complete row : name / ceremony / category / outcome\n",
    "                        new_row=len(df_award)+1\n",
    "                        df_award.loc[new_row,[\"name\"]]=director_name\n",
    "                        df_award.loc[new_row,[\"ceremony\"]]=ceremony\n",
    "                        df_award.loc[new_row,[\"year\"]]=year\n",
    "                        df_award.loc[new_row,[\"category\"]]=category\n",
    "                        df_award.loc[new_row,[\"outcome\"]]=outcome\n",
    "                        \n",
    "            #if you bump on a next ceremony come back one step before and analyse it\n",
    "            if tag.name==\"h3\":\n",
    "                allow_next=False\n",
    "                itag-=1\n",
    "    itag+=1\n",
    "df_award[-5:]\n"
   ]
  },
  {
   "cell_type": "code",
   "execution_count": 15,
   "metadata": {},
   "outputs": [
    {
     "data": {
      "image/png": "[encoded data removed]",
      "text/plain": [
       "<matplotlib.figure.Figure at 0xb601f60>"
      ]
     },
     "metadata": {},
     "output_type": "display_data"
    }
   ],
   "source": [
    "#count won & nominated\n",
    "df_award[\"simplified_outcome\"]=\"Nominated\"\n",
    "df_award.loc[df_award[\"outcome\"]==\"Won\",\"simplified_outcome\"]=\"Won\"\n",
    "group = df_award.groupby(by=[\"year\",\"simplified_outcome\"]).count()\n",
    "\n",
    "#chart won & nominated\n",
    "min_year=df_award[\"year\"].min()\n",
    "max_year=df_award[\"year\"].max()+1\n",
    "\n",
    "won_serie=pd.Series(index=range(min_year,max_year))\n",
    "nominated_serie=pd.Series(index=range(min_year,max_year))\n",
    "\n",
    "for i in range(min_year,max_year):\n",
    "    won_serie[i]=0\n",
    "    nominated_serie[i]=0\n",
    "\n",
    "for i in range(len(group.index)):\n",
    "    if group.index[i][1]==\"Won\":\n",
    "        won_serie[group.index[i][0]]=group.iloc[i][\"name\"]\n",
    "    if group.index[i][1]==\"Nominated\":\n",
    "        nominated_serie[group.index[i][0]]=group.iloc[i][\"name\"]\n",
    "        \n",
    "import matplotlib.pyplot as plt\n",
    "plt.figure(figsize=(20,10))\n",
    "plt.bar(range(min_year,max_year), won_serie, color = 'red')\n",
    "plt.bar(range(min_year,max_year), nominated_serie, color = 'orange', bottom = won_serie)\n",
    "plt.legend(('won','nominated'))\n",
    "plt.show()"
   ]
  }
 ],
 "metadata": {
  "kernelspec": {
   "display_name": "Python 3",
   "language": "python",
   "name": "python3"
  },
  "language_info": {
   "codemirror_mode": {
    "name": "ipython",
    "version": 3
   },
   "file_extension": ".py",
   "mimetype": "text/x-python",
   "name": "python",
   "nbconvert_exporter": "python",
   "pygments_lexer": "ipython3",
   "version": "3.6.1"
  }
 },
 "nbformat": 4,
 "nbformat_minor": 2
}
