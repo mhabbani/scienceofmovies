{
 "cells": [
  {
   "cell_type": "code",
   "execution_count": 1,
   "metadata": {},
   "outputs": [],
   "source": [
    "import scipy as sp\n",
    "n_samples = 20\n",
    "z = sp.randn(n_samples, 3)"
   ]
  },
  {
   "cell_type": "code",
   "execution_count": 2,
   "metadata": {},
   "outputs": [
    {
     "data": {
      "text/plain": [
       "array([[-0.79134919, -0.31363456, -1.16372631],\n",
       "       [ 0.21495513, -0.49450002, -0.13031808],\n",
       "       [-0.56578715, -1.0847773 , -2.26054815],\n",
       "       [ 0.18927975, -0.14765462,  0.71016896],\n",
       "       [ 0.71239126,  0.57957375, -0.42429198],\n",
       "       [-2.42093123, -1.83266799,  0.3195015 ],\n",
       "       [-0.3423312 , -0.09698015, -0.15802978],\n",
       "       [-0.4795347 , -1.10685283, -0.1636387 ],\n",
       "       [ 0.45049922, -0.48607991, -1.81767691],\n",
       "       [-0.84298514, -0.70744746, -0.65886921],\n",
       "       [ 0.33178597,  0.10048785,  1.3654181 ],\n",
       "       [ 0.14536587, -1.78574734,  1.36988618],\n",
       "       [ 1.30386823,  0.19926749, -0.10855158],\n",
       "       [ 0.39451335, -1.36790621, -1.24764372],\n",
       "       [ 0.07179612,  1.20007555,  0.34285374],\n",
       "       [-0.58450047, -1.23780834, -1.3680921 ],\n",
       "       [ 1.52854713, -1.00217493,  0.21681147],\n",
       "       [ 0.3840455 ,  0.02808616, -0.56394825],\n",
       "       [ 0.2660591 , -1.70431233,  1.85969539],\n",
       "       [ 0.49086521, -0.8049915 ,  0.63641273]])"
      ]
     },
     "execution_count": 2,
     "metadata": {},
     "output_type": "execute_result"
    }
   ],
   "source": [
    "z"
   ]
  },
  {
   "cell_type": "code",
   "execution_count": 4,
   "metadata": {},
   "outputs": [
    {
     "name": "stdout",
     "output_type": "stream",
     "text": [
      "[[-0.66162049 -0.52866548 -0.13281836]]\n"
     ]
    }
   ],
   "source": [
    "from sklearn import decomposition, preprocessing\n",
    "\n",
    "data_normal = preprocessing.scale(z) # Normalization\n",
    "fa = decomposition.FactorAnalysis(n_components=1)\n",
    "fa.fit(data_normal)\n",
    "print (fa.components_) # Factor loadings"
   ]
  }
 ],
 "metadata": {
  "kernelspec": {
   "display_name": "Python 3",
   "language": "python",
   "name": "python3"
  },
  "language_info": {
   "codemirror_mode": {
    "name": "ipython",
    "version": 3
   },
   "file_extension": ".py",
   "mimetype": "text/x-python",
   "name": "python",
   "nbconvert_exporter": "python",
   "pygments_lexer": "ipython3",
   "version": "3.6.1"
  }
 },
 "nbformat": 4,
 "nbformat_minor": 2
}
