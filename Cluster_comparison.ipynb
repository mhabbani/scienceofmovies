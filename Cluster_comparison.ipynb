{
 "cells": [
  {
   "cell_type": "code",
   "execution_count": 2,
   "metadata": {},
   "outputs": [
    {
     "name": "stdout",
     "output_type": "stream",
     "text": [
      "['director_name' 'movie_nb' 'min_date' 'max_date' 'career_middle_date'\n",
      " 'avg_time' 'id' 'vote_count' 'release_date2' 'Drama' 'Crime' 'Action'\n",
      " 'Documentary' 'Adventure' 'Animation' 'Comedy' 'Mystery' 'Horror'\n",
      " 'Western' 'Science Fiction' 'Thriller' 'Romance' 'Fantasy' 'War' 'Family'\n",
      " 'Music' 'History' 'TV Movie' 'Foreign' 'en' 'de' 'fr' 'es' 'pt' 'ja' 'it'\n",
      " 'zh' 'sv' 'da' 'other']\n"
     ]
    }
   ],
   "source": [
    "import csv\n",
    "import numpy as np\n",
    "import pandas as pd\n",
    "import matplotlib.pyplot as plt\n",
    "from sklearn.cluster import KMeans\n",
    "from sklearn.preprocessing import StandardScaler\n",
    "from sklearn.pipeline import make_pipeline\n",
    "\n",
    "df_real = pd.read_csv(\"director_avg.csv\", sep=\";\", low_memory=False)\n",
    "#df_real = df_real.values\n",
    "df_real.drop('movie_nb_inclnodate', axis=1, inplace=True)\n",
    "print(df_real.columns.values)"
   ]
  },
  {
   "cell_type": "code",
   "execution_count": 3,
   "metadata": {
    "collapsed": true
   },
   "outputs": [],
   "source": [
    "#df_tr = df_real[0:10000]\n",
    "df_tr = df_real\n",
    "#liste des noms de réals en numpy array\n",
    "director_names = df_tr['director_name'].values\n",
    "#Exclusion des noms de réals (non numériques) pour le travail de clustering\n",
    "df_tr2 = df_tr.iloc[:,1:]\n",
    "#convert to numpy array\n",
    "df_tr2 = df_tr2.values"
   ]
  },
  {
   "cell_type": "code",
   "execution_count": 4,
   "metadata": {},
   "outputs": [
    {
     "data": {
      "text/plain": [
       "StandardScaler(copy=True, with_mean=True, with_std=True)"
      ]
     },
     "execution_count": 4,
     "metadata": {},
     "output_type": "execute_result"
    }
   ],
   "source": [
    "#Méthode de normalisation choisie au hasard\n",
    "scaler = StandardScaler()\n",
    "scaler.fit(df_tr2)"
   ]
  },
  {
   "cell_type": "code",
   "execution_count": 13,
   "metadata": {},
   "outputs": [
    {
     "data": {
      "text/plain": [
       "25926.75641025641"
      ]
     },
     "execution_count": 13,
     "metadata": {},
     "output_type": "execute_result"
    }
   ],
   "source": [
    "np.mean(df_tr2[0])"
   ]
  },
  {
   "cell_type": "code",
   "execution_count": 138,
   "metadata": {},
   "outputs": [
    {
     "data": {
      "image/png": "[encoded data removed]",
      "text/plain": [
       "<matplotlib.figure.Figure at 0x3acaf2e940>"
      ]
     },
     "metadata": {},
     "output_type": "display_data"
    }
   ],
   "source": [
    "#On calcule l'inertie (coefficient d'éloignement moyen par rapport au centre des clusters) pour chaque nombre possible de cluster, pour essayer de trouver le nombre \"idéal\" pour nos données\n",
    "#nombre de clusters testés: de 1 à 20\n",
    "ks = range(1, 20)\n",
    "inertias = []\n",
    "\n",
    "for k in ks:\n",
    "    # On fait KMeans avec k clusters\n",
    "    model = KMeans(n_clusters=k)\n",
    "    \n",
    "    # On fitte le modèle aux données\n",
    "    model.fit(df_tr2)\n",
    "    \n",
    "    # On calcule l'inertie (distance moyenne entre films et centre du cluster auquel il appartient)\n",
    "    inertias.append(model.inertia_)\n",
    "    \n",
    "# on tracel'inertie en fonction des ks\n",
    "plt.plot(ks, inertias, '-o')\n",
    "plt.xlabel('nombre de clusters k')\n",
    "plt.ylabel('inertie')\n",
    "#échelle logarithmique pour les ordonnées\n",
    "plt.yscale('log')\n",
    "plt.xticks(ks)\n",
    "plt.show()\n",
    "#Conclusion: pas de nombre de clusters optimal..."
   ]
  }
 ],
 "metadata": {
  "kernelspec": {
   "display_name": "Python 3",
   "language": "python",
   "name": "python3"
  },
  "language_info": {
   "codemirror_mode": {
    "name": "ipython",
    "version": 3
   },
   "file_extension": ".py",
   "mimetype": "text/x-python",
   "name": "python",
   "nbconvert_exporter": "python",
   "pygments_lexer": "ipython3",
   "version": "3.6.1"
  }
 },
 "nbformat": 4,
 "nbformat_minor": 2
}
