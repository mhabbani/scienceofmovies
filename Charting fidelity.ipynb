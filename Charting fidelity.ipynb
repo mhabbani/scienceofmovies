{
 "cells": [
  {
   "cell_type": "code",
   "execution_count": 1,
   "metadata": {},
   "outputs": [
    {
     "data": {
      "text/plain": [
       "director_name     object\n",
       "gender           float64\n",
       "movies_nb          int64\n",
       "fidelity_rel     float64\n",
       "fidelity_abs       int64\n",
       "dtype: object"
      ]
     },
     "execution_count": 1,
     "metadata": {},
     "output_type": "execute_result"
    }
   ],
   "source": [
    "import csv\n",
    "import numpy as np\n",
    "import pandas as pd\n",
    "import matplotlib.pyplot as plt\n",
    "\n",
    "# Chargement du fichier dans un dataframe\n",
    "df = pd.read_csv(\"ComputeDirectorFidelity/director_attr.csv\", sep=\";\")\n",
    "\n",
    "# Verification des headers et types\n",
    "df.dtypes"
   ]
  },
  {
   "cell_type": "code",
   "execution_count": 33,
   "metadata": {},
   "outputs": [
    {
     "data": {
      "image/png": "[encoded data removed]",
      "text/plain": [
       "<matplotlib.figure.Figure at 0xdf03cf8>"
      ]
     },
     "metadata": {},
     "output_type": "display_data"
    }
   ],
   "source": [
    "# filtrage des non nuls, histogramme & calcul moyenne\n",
    "plt.hist(df.loc[df.fidelity_rel>1,:].fidelity_rel)\n",
    "plt.xlabel(\"Fidelity\")\n",
    "plt.ylabel(\"Nb of real\")\n",
    "plt.title(\"Director by relative fidelity bucket\")\n",
    "plt.show()\n"
   ]
  },
  {
   "cell_type": "code",
   "execution_count": 39,
   "metadata": {},
   "outputs": [
    {
     "data": {
      "image/png": "[encoded data removed]",
      "text/plain": [
       "<matplotlib.figure.Figure at 0xa322358>"
      ]
     },
     "metadata": {},
     "output_type": "display_data"
    }
   ],
   "source": [
    "x=df.loc[df.fidelity_rel>0,:].loc[df.movies_nb<100,:].movies_nb\n",
    "y=df.loc[df.fidelity_rel>0,:].loc[df.movies_nb<100,:].fidelity_rel\n",
    "plt.scatter(x,y, s = 0.1)\n",
    "plt.show()"
   ]
  },
  {
   "cell_type": "code",
   "execution_count": 28,
   "metadata": {},
   "outputs": [
    {
     "data": {
      "text/plain": [
       "0        30\n",
       "1         9\n",
       "2        14\n",
       "5        19\n",
       "6         7\n",
       "7        23\n",
       "8        11\n",
       "9        33\n",
       "10       29\n",
       "12       20\n",
       "13       47\n",
       "14       20\n",
       "16       12\n",
       "17       13\n",
       "18        9\n",
       "19       29\n",
       "20       28\n",
       "21       10\n",
       "23       10\n",
       "24       37\n",
       "26       25\n",
       "27       11\n",
       "28       28\n",
       "29       16\n",
       "30       20\n",
       "31       23\n",
       "32       17\n",
       "33       12\n",
       "34       13\n",
       "35       10\n",
       "         ..\n",
       "84444     3\n",
       "84492     1\n",
       "84632     1\n",
       "84649     2\n",
       "84665     5\n",
       "84673     2\n",
       "84709     2\n",
       "84745     1\n",
       "84776     1\n",
       "84865     1\n",
       "85001     1\n",
       "85041     2\n",
       "85049     4\n",
       "85078     2\n",
       "85155     1\n",
       "85244     2\n",
       "85313     1\n",
       "85376     2\n",
       "85387     2\n",
       "85437     2\n",
       "85438     2\n",
       "85457     2\n",
       "85543     2\n",
       "85618     2\n",
       "85644     6\n",
       "85651     2\n",
       "85783     1\n",
       "85793     3\n",
       "85794     1\n",
       "85830     1\n",
       "Name: movies_nb, Length: 15086, dtype: int64"
      ]
     },
     "execution_count": 28,
     "metadata": {},
     "output_type": "execute_result"
    }
   ],
   "source": []
  },
  {
   "cell_type": "code",
   "execution_count": null,
   "metadata": {
    "collapsed": true
   },
   "outputs": [],
   "source": []
  }
 ],
 "metadata": {
  "kernelspec": {
   "display_name": "Python 3",
   "language": "python",
   "name": "python3"
  },
  "language_info": {
   "codemirror_mode": {
    "name": "ipython",
    "version": 3
   },
   "file_extension": ".py",
   "mimetype": "text/x-python",
   "name": "python",
   "nbconvert_exporter": "python",
   "pygments_lexer": "ipython3",
   "version": "3.6.1"
  }
 },
 "nbformat": 4,
 "nbformat_minor": 2
}
