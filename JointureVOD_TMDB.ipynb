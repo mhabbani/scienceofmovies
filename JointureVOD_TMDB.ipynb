{
 "cells": [
  {
   "cell_type": "code",
   "execution_count": 1,
   "metadata": {
    "collapsed": true
   },
   "outputs": [],
   "source": [
    "import csv\n",
    "import numpy as np\n",
    "import pandas as pd\n",
    "import matplotlib.pyplot as plt\n",
    "\n",
    "#chargement fichiers\n",
    "dfa_tmdb = pd.read_csv(\"./data/AllMoviesDetailsCleaned.csv\", sep=\";\",encoding=\"utf-8-sig\", low_memory=False, parse_dates=[\"release_date\"])\n"
   ]
  },
  {
   "cell_type": "code",
   "execution_count": 2,
   "metadata": {},
   "outputs": [
    {
     "name": "stderr",
     "output_type": "stream",
     "text": [
      "b'Skipping line 22345: expected 28 fields, saw 29\\n'\n"
     ]
    }
   ],
   "source": [
    "dfa_vod = pd.read_csv(\"./data/vod_films.csv\",sep=\"\\t\",encoding=\"utf-8-sig\", error_bad_lines=False, low_memory=False)"
   ]
  },
  {
   "cell_type": "code",
   "execution_count": 12,
   "metadata": {},
   "outputs": [
    {
     "data": {
      "text/html": [
       "<div>\n",
       "<style>\n",
       "    .dataframe thead tr:only-child th {\n",
       "        text-align: right;\n",
       "    }\n",
       "\n",
       "    .dataframe thead th {\n",
       "        text-align: left;\n",
       "    }\n",
       "\n",
       "    .dataframe tbody tr th {\n",
       "        vertical-align: top;\n",
       "    }\n",
       "</style>\n",
       "<table border=\"1\" class=\"dataframe\">\n",
       "  <thead>\n",
       "    <tr style=\"text-align: right;\">\n",
       "      <th></th>\n",
       "      <th>release_date</th>\n",
       "      <th>title</th>\n",
       "      <th>original_title</th>\n",
       "    </tr>\n",
       "  </thead>\n",
       "  <tbody>\n",
       "    <tr>\n",
       "      <th>112</th>\n",
       "      <td>1959-04-05</td>\n",
       "      <td>The 400 Blows</td>\n",
       "      <td>Les quatre cents coups</td>\n",
       "    </tr>\n",
       "  </tbody>\n",
       "</table>\n",
       "</div>"
      ],
      "text/plain": [
       "    release_date          title          original_title\n",
       "112   1959-04-05  The 400 Blows  Les quatre cents coups"
      ]
     },
     "execution_count": 12,
     "metadata": {},
     "output_type": "execute_result"
    }
   ],
   "source": [
    "dfa_tmdb.loc[dfa_tmdb[dfa_tmdb.title==\"The 400 Blows\"].index,{\"title\",\"original_title\",\"release_date\"}]"
   ]
  },
  {
   "cell_type": "code",
   "execution_count": 9,
   "metadata": {},
   "outputs": [
    {
     "data": {
      "text/html": [
       "<div>\n",
       "<style>\n",
       "    .dataframe thead tr:only-child th {\n",
       "        text-align: right;\n",
       "    }\n",
       "\n",
       "    .dataframe thead th {\n",
       "        text-align: left;\n",
       "    }\n",
       "\n",
       "    .dataframe tbody tr th {\n",
       "        vertical-align: top;\n",
       "    }\n",
       "</style>\n",
       "<table border=\"1\" class=\"dataframe\">\n",
       "  <thead>\n",
       "    <tr style=\"text-align: right;\">\n",
       "      <th></th>\n",
       "      <th>year</th>\n",
       "      <th>title</th>\n",
       "      <th>english_title</th>\n",
       "      <th>original_title</th>\n",
       "    </tr>\n",
       "  </thead>\n",
       "  <tbody>\n",
       "    <tr>\n",
       "      <th>3578</th>\n",
       "      <td>1959</td>\n",
       "      <td>Les Quatre cents coups</td>\n",
       "      <td>The 400 Blows</td>\n",
       "      <td>Les quatre cents coups</td>\n",
       "    </tr>\n",
       "  </tbody>\n",
       "</table>\n",
       "</div>"
      ],
      "text/plain": [
       "      year                   title  english_title          original_title\n",
       "3578  1959  Les Quatre cents coups  The 400 Blows  Les quatre cents coups"
      ]
     },
     "execution_count": 9,
     "metadata": {},
     "output_type": "execute_result"
    }
   ],
   "source": [
    "dfa_vod.loc[dfa_vod[dfa_vod.english_title==\"The 400 Blows\"].index,{\"title\",\"original_title\",\"english_title\",\"year\"}]"
   ]
  },
  {
   "cell_type": "code",
   "execution_count": 20,
   "metadata": {
    "collapsed": true
   },
   "outputs": [
    {
     "data": {
      "text/plain": [
       "0         1988.0\n",
       "1         1986.0\n",
       "2         1995.0\n",
       "3         1993.0\n",
       "4         2006.0\n",
       "5         2004.0\n",
       "6         1977.0\n",
       "7         2003.0\n",
       "8         1994.0\n",
       "9         1999.0\n",
       "10        1941.0\n",
       "11        2000.0\n",
       "12        2006.0\n",
       "13        1997.0\n",
       "14        1927.0\n",
       "15        2003.0\n",
       "16        1966.0\n",
       "17        2003.0\n",
       "18        2003.0\n",
       "19        2005.0\n",
       "20        2004.0\n",
       "21        2004.0\n",
       "22        1979.0\n",
       "23        1995.0\n",
       "24        1995.0\n",
       "25        1995.0\n",
       "26        1992.0\n",
       "27        2007.0\n",
       "28        2004.0\n",
       "29        2000.0\n",
       "           ...  \n",
       "329014       NaN\n",
       "329015       NaN\n",
       "329016    1979.0\n",
       "329017    2017.0\n",
       "329018    2017.0\n",
       "329019    2017.0\n",
       "329020       NaN\n",
       "329021    2017.0\n",
       "329022       NaN\n",
       "329023    2017.0\n",
       "329024    2017.0\n",
       "329025    2017.0\n",
       "329026    2016.0\n",
       "329027    2017.0\n",
       "329028    2015.0\n",
       "329029    2011.0\n",
       "329030    2004.0\n",
       "329031       NaN\n",
       "329032    2017.0\n",
       "329033    2017.0\n",
       "329034    1994.0\n",
       "329035    2017.0\n",
       "329036    1973.0\n",
       "329037    2003.0\n",
       "329038       NaN\n",
       "329039    2016.0\n",
       "329040    2006.0\n",
       "329041    2017.0\n",
       "329042    2016.0\n",
       "329043    2017.0\n",
       "Name: release_date, Length: 329044, dtype: float64"
      ]
     },
     "execution_count": 20,
     "metadata": {},
     "output_type": "execute_result"
    }
   ],
   "source": [
    "#La jointure vod <=> tmdb devra  donc se faire sur l'année + english title (vod) vs année + title (tmdb)\n",
    "#Pour l'instant je laisse tomber\n",
    "dfa_tmdb[\"release_date\"].map(lambda x: x.year)"
   ]
  },
  {
   "cell_type": "code",
   "execution_count": 64,
   "metadata": {
    "collapsed": true
   },
   "outputs": [
    {
     "name": "stderr",
     "output_type": "stream",
     "text": [
      "b'Skipping line 1297: expected 19 fields, saw 20\\nSkipping line 1379: expected 19 fields, saw 20\\nSkipping line 4960: expected 19 fields, saw 20\\nSkipping line 5465: expected 19 fields, saw 20\\nSkipping line 10246: expected 19 fields, saw 20\\nSkipping line 10403: expected 19 fields, saw 20\\nSkipping line 10680: expected 19 fields, saw 20\\nSkipping line 11191: expected 19 fields, saw 20\\nSkipping line 11827: expected 19 fields, saw 20\\nSkipping line 13007: expected 19 fields, saw 23\\nSkipping line 23554: expected 19 fields, saw 20\\nSkipping line 24221: expected 19 fields, saw 20\\nSkipping line 30092: expected 19 fields, saw 20\\nSkipping line 42223: expected 19 fields, saw 20\\nSkipping line 44069: expected 19 fields, saw 20\\nSkipping line 46296: expected 19 fields, saw 20\\nSkipping line 51513: expected 19 fields, saw 20\\nSkipping line 60071: expected 19 fields, saw 20\\nSkipping line 60077: expected 19 fields, saw 22\\nSkipping line 66381: expected 19 fields, saw 20\\nSkipping line 69160: expected 19 fields, saw 20\\nSkipping line 72684: expected 19 fields, saw 20\\nSkipping line 78032: expected 19 fields, saw 20\\nSkipping line 84896: expected 19 fields, saw 35\\nSkipping line 85308: expected 19 fields, saw 22\\nSkipping line 87661: expected 19 fields, saw 20\\nSkipping line 93769: expected 19 fields, saw 20\\nSkipping line 93771: expected 19 fields, saw 20\\nSkipping line 96544: expected 19 fields, saw 20\\nSkipping line 101446: expected 19 fields, saw 20\\nSkipping line 104233: expected 19 fields, saw 20\\nSkipping line 110283: expected 19 fields, saw 20\\nSkipping line 112277: expected 19 fields, saw 20\\nSkipping line 113493: expected 19 fields, saw 20\\nSkipping line 127362: expected 19 fields, saw 20\\nSkipping line 132063: expected 19 fields, saw 20\\nSkipping line 138200: expected 19 fields, saw 20\\nSkipping line 139837: expected 19 fields, saw 20\\nSkipping line 141330: expected 19 fields, saw 20\\nSkipping line 150844: expected 19 fields, saw 22\\nSkipping line 150936: expected 19 fields, saw 23\\nSkipping line 152367: expected 19 fields, saw 20\\nSkipping line 152598: expected 19 fields, saw 22\\nSkipping line 152634: expected 19 fields, saw 20\\nSkipping line 152648: expected 19 fields, saw 21\\nSkipping line 156801: expected 19 fields, saw 20\\nSkipping line 161889: expected 19 fields, saw 20\\nSkipping line 166284: expected 19 fields, saw 20\\nSkipping line 170323: expected 19 fields, saw 20\\nSkipping line 181946: expected 19 fields, saw 20\\nSkipping line 183536: expected 19 fields, saw 20\\nSkipping line 184141: expected 19 fields, saw 20\\nSkipping line 186537: expected 19 fields, saw 20\\nSkipping line 188448: expected 19 fields, saw 20\\nSkipping line 188508: expected 19 fields, saw 20\\nSkipping line 188717: expected 19 fields, saw 20\\nSkipping line 189095: expected 19 fields, saw 20\\nSkipping line 189096: expected 19 fields, saw 20\\nSkipping line 189097: expected 19 fields, saw 20\\nSkipping line 190866: expected 19 fields, saw 20\\nSkipping line 190868: expected 19 fields, saw 20\\nSkipping line 193454: expected 19 fields, saw 20\\nSkipping line 193668: expected 19 fields, saw 21\\nSkipping line 193837: expected 19 fields, saw 21\\nSkipping line 194071: expected 19 fields, saw 20\\nSkipping line 194192: expected 19 fields, saw 21\\nSkipping line 194563: expected 19 fields, saw 20\\nSkipping line 197393: expected 19 fields, saw 20\\nSkipping line 207170: expected 19 fields, saw 20\\nSkipping line 207739: expected 19 fields, saw 20\\nSkipping line 208361: expected 19 fields, saw 20\\nSkipping line 211120: expected 19 fields, saw 20\\nSkipping line 211126: expected 19 fields, saw 20\\nSkipping line 211179: expected 19 fields, saw 20\\nSkipping line 211474: expected 19 fields, saw 20\\nSkipping line 212132: expected 19 fields, saw 20\\nSkipping line 212331: expected 19 fields, saw 20\\nSkipping line 213344: expected 19 fields, saw 20\\nSkipping line 213397: expected 19 fields, saw 20\\nSkipping line 214306: expected 19 fields, saw 21\\nSkipping line 214307: expected 19 fields, saw 21\\nSkipping line 214308: expected 19 fields, saw 21\\nSkipping line 214309: expected 19 fields, saw 21\\nSkipping line 214310: expected 19 fields, saw 21\\nSkipping line 214311: expected 19 fields, saw 21\\nSkipping line 214929: expected 19 fields, saw 20\\nSkipping line 216006: expected 19 fields, saw 21\\nSkipping line 216599: expected 19 fields, saw 20\\nSkipping line 216601: expected 19 fields, saw 20\\nSkipping line 216945: expected 19 fields, saw 20\\nSkipping line 221046: expected 19 fields, saw 20\\nSkipping line 221146: expected 19 fields, saw 20\\nSkipping line 221612: expected 19 fields, saw 20\\nSkipping line 221735: expected 19 fields, saw 20\\nSkipping line 224815: expected 19 fields, saw 20\\nSkipping line 229181: expected 19 fields, saw 20\\nSkipping line 229235: expected 19 fields, saw 21\\nSkipping line 231743: expected 19 fields, saw 20\\nSkipping line 231744: expected 19 fields, saw 20\\nSkipping line 233196: expected 19 fields, saw 20\\nSkipping line 233594: expected 19 fields, saw 20\\nSkipping line 234955: expected 19 fields, saw 20\\nSkipping line 239351: expected 19 fields, saw 20\\nSkipping line 244767: expected 19 fields, saw 21\\nSkipping line 247194: expected 19 fields, saw 20\\nSkipping line 247512: expected 19 fields, saw 21\\nSkipping line 258907: expected 19 fields, saw 20\\n'\n",
      "b'Skipping line 22345: expected 28 fields, saw 29\\n'\n"
     ]
    }
   ],
   "source": [
    "#Jointure  films<=>artists\n",
    "dfl = pd.read_csv(\"./data/vod_artists_films_link.csv\",sep=\"\\t\",encoding=\"utf-8-sig\", error_bad_lines=False, low_memory=False)\n",
    "dfa = pd.read_csv(\"./data/vod_artists.csv\",sep=\"\\t\",encoding=\"utf-8-sig\", error_bad_lines=False, low_memory=False)\n",
    "dff = pd.read_csv(\"./data/vod_films.csv\",sep=\"\\t\",encoding=\"utf-8-sig\", error_bad_lines=False, low_memory=False)\n",
    "dff=dff.rename(columns = {'id':'left_object_id'})\n",
    "dfa=dfa.rename(columns = {'id':'right_object_id'})\n",
    "dfaf = dfl.merge(dff,how='inner',on='left_object_id')\n",
    "dfaf = dfaf.merge(dfa,how='inner',on='right_object_id')"
   ]
  },
  {
   "cell_type": "code",
   "execution_count": 99,
   "metadata": {},
   "outputs": [],
   "source": [
    "#Petit test pour vérifier sur titanic\n",
    "df = dfaf.loc[:,{'left_object_id','right_object_id','title','fullname_no_accent','type','year'}].sort_values(by='left_object_id')\n",
    "df[df[\"title\"]==\"Titanic\"].to_csv(\"test.csv\")"
   ]
  },
  {
   "cell_type": "code",
   "execution_count": 106,
   "metadata": {},
   "outputs": [
    {
     "data": {
      "text/plain": [
       "Int64Index([   1269,    1275,    1287,    1293,    1303,    1319,    1323,\n",
       "               1331,    1339,    1345,\n",
       "            ...\n",
       "            1355793, 1355795, 1355797, 1355799, 1355801, 1355803, 1355805,\n",
       "            1355807, 1355809, 1355811],\n",
       "           dtype='int64', name='left_object_id', length=75872)"
      ]
     },
     "execution_count": 106,
     "metadata": {},
     "output_type": "execute_result"
    }
   ],
   "source": [
    "#Combien a t'on de films avec un casting ? 75k => pas bcp de perte suite aux jointures, OK\n",
    "dfaf.groupby(\"left_object_id\").count().index"
   ]
  },
  {
   "cell_type": "code",
   "execution_count": 116,
   "metadata": {},
   "outputs": [
    {
     "data": {
      "text/plain": [
       "(17469, 2)"
      ]
     },
     "execution_count": 116,
     "metadata": {},
     "output_type": "execute_result"
    }
   ],
   "source": [
    "#Combien a t'on de films avec un score ?\n",
    "dff[dff[\"score\"]>0].loc[:,{'title','score'}].shape"
   ]
  },
  {
   "cell_type": "code",
   "execution_count": 149,
   "metadata": {},
   "outputs": [
    {
     "data": {
      "image/png": "[encoded data removed]",
      "text/plain": [
       "<matplotlib.figure.Figure at 0xa6eb1710>"
      ]
     },
     "metadata": {},
     "output_type": "display_data"
    }
   ],
   "source": [
    "# Distrib des scores vodkaster\n",
    "plt.subplot(1, 2, 1)\n",
    "plt.hist(dff[dff[\"score\"]>0].score,bins=[0, 10, 20, 30, 40, 50,60,70,80,90,100])\n",
    "plt.xlabel(\"score\")\n",
    "plt.ylabel(\"# of movies\")\n",
    "plt.title(\"Distribution of vodkaster ratings\")\n",
    "\n",
    "# Distrib des avg_ratings (1-5)\n",
    "plt.subplot(1, 2, 2)\n",
    "plt.hist(dff[dff[\"avg_rating\"]>0].avg_rating,bins=[0,1,2,3,4,5])\n",
    "plt.xlabel(\"avg_rating\")\n",
    "plt.ylabel(\"# of movies\")\n",
    "plt.title(\"Distribution of vodkaster avg_rating\")\n",
    "\n",
    "#On affiche\n",
    "plt.tight_layout()\n",
    "plt.show()\n"
   ]
  },
  {
   "cell_type": "code",
   "execution_count": 132,
   "metadata": {},
   "outputs": [
    {
     "data": {
      "text/html": [
       "<div>\n",
       "<style>\n",
       "    .dataframe thead tr:only-child th {\n",
       "        text-align: right;\n",
       "    }\n",
       "\n",
       "    .dataframe thead th {\n",
       "        text-align: left;\n",
       "    }\n",
       "\n",
       "    .dataframe tbody tr th {\n",
       "        vertical-align: top;\n",
       "    }\n",
       "</style>\n",
       "<table border=\"1\" class=\"dataframe\">\n",
       "  <thead>\n",
       "    <tr style=\"text-align: right;\">\n",
       "      <th></th>\n",
       "      <th>left_object_id</th>\n",
       "      <th>node_id</th>\n",
       "      <th>version</th>\n",
       "      <th>has_en_poster</th>\n",
       "      <th>duration</th>\n",
       "      <th>synopsis_original</th>\n",
       "      <th>score</th>\n",
       "      <th>nb_mc</th>\n",
       "      <th>nb_rating</th>\n",
       "      <th>avg_rating</th>\n",
       "      <th>recommended_by</th>\n",
       "      <th>riplay_available</th>\n",
       "      <th>lowest_price</th>\n",
       "    </tr>\n",
       "  </thead>\n",
       "  <tbody>\n",
       "    <tr>\n",
       "      <th>count</th>\n",
       "      <td>2.177300e+04</td>\n",
       "      <td>1.861400e+04</td>\n",
       "      <td>21773.000000</td>\n",
       "      <td>21773.000000</td>\n",
       "      <td>19859.000000</td>\n",
       "      <td>21773.000000</td>\n",
       "      <td>17469.000000</td>\n",
       "      <td>21733.000000</td>\n",
       "      <td>21773.000000</td>\n",
       "      <td>21773.000000</td>\n",
       "      <td>21770.000000</td>\n",
       "      <td>21773.000000</td>\n",
       "      <td>4827.000000</td>\n",
       "    </tr>\n",
       "    <tr>\n",
       "      <th>mean</th>\n",
       "      <td>4.847758e+05</td>\n",
       "      <td>1.265855e+07</td>\n",
       "      <td>2.057686</td>\n",
       "      <td>0.332614</td>\n",
       "      <td>6004.742132</td>\n",
       "      <td>0.000321</td>\n",
       "      <td>46.990211</td>\n",
       "      <td>24.646068</td>\n",
       "      <td>182.001699</td>\n",
       "      <td>2.994627</td>\n",
       "      <td>32.029949</td>\n",
       "      <td>0.443072</td>\n",
       "      <td>3.949484</td>\n",
       "    </tr>\n",
       "    <tr>\n",
       "      <th>std</th>\n",
       "      <td>4.722365e+05</td>\n",
       "      <td>7.641598e+06</td>\n",
       "      <td>1.879934</td>\n",
       "      <td>0.471160</td>\n",
       "      <td>1767.114632</td>\n",
       "      <td>0.017928</td>\n",
       "      <td>27.789148</td>\n",
       "      <td>55.436446</td>\n",
       "      <td>506.335568</td>\n",
       "      <td>0.552893</td>\n",
       "      <td>79.303694</td>\n",
       "      <td>0.496760</td>\n",
       "      <td>3.576709</td>\n",
       "    </tr>\n",
       "    <tr>\n",
       "      <th>min</th>\n",
       "      <td>1.275000e+03</td>\n",
       "      <td>0.000000e+00</td>\n",
       "      <td>0.000000</td>\n",
       "      <td>0.000000</td>\n",
       "      <td>0.000000</td>\n",
       "      <td>0.000000</td>\n",
       "      <td>1.000000</td>\n",
       "      <td>0.000000</td>\n",
       "      <td>5.000000</td>\n",
       "      <td>0.830000</td>\n",
       "      <td>0.000000</td>\n",
       "      <td>0.000000</td>\n",
       "      <td>1.990000</td>\n",
       "    </tr>\n",
       "    <tr>\n",
       "      <th>25%</th>\n",
       "      <td>7.641300e+04</td>\n",
       "      <td>6.263100e+04</td>\n",
       "      <td>1.000000</td>\n",
       "      <td>0.000000</td>\n",
       "      <td>5400.000000</td>\n",
       "      <td>0.000000</td>\n",
       "      <td>23.000000</td>\n",
       "      <td>3.000000</td>\n",
       "      <td>10.000000</td>\n",
       "      <td>2.650000</td>\n",
       "      <td>2.000000</td>\n",
       "      <td>0.000000</td>\n",
       "      <td>1.990000</td>\n",
       "    </tr>\n",
       "    <tr>\n",
       "      <th>50%</th>\n",
       "      <td>2.691120e+05</td>\n",
       "      <td>1.696750e+07</td>\n",
       "      <td>2.000000</td>\n",
       "      <td>0.000000</td>\n",
       "      <td>5940.000000</td>\n",
       "      <td>0.000000</td>\n",
       "      <td>47.000000</td>\n",
       "      <td>6.000000</td>\n",
       "      <td>28.000000</td>\n",
       "      <td>3.050000</td>\n",
       "      <td>6.000000</td>\n",
       "      <td>0.000000</td>\n",
       "      <td>2.990000</td>\n",
       "    </tr>\n",
       "    <tr>\n",
       "      <th>75%</th>\n",
       "      <td>8.554020e+05</td>\n",
       "      <td>1.745167e+07</td>\n",
       "      <td>3.000000</td>\n",
       "      <td>1.000000</td>\n",
       "      <td>6660.000000</td>\n",
       "      <td>0.000000</td>\n",
       "      <td>71.000000</td>\n",
       "      <td>20.000000</td>\n",
       "      <td>111.000000</td>\n",
       "      <td>3.390000</td>\n",
       "      <td>22.000000</td>\n",
       "      <td>1.000000</td>\n",
       "      <td>4.390000</td>\n",
       "    </tr>\n",
       "    <tr>\n",
       "      <th>max</th>\n",
       "      <td>1.355323e+06</td>\n",
       "      <td>1.818401e+07</td>\n",
       "      <td>63.000000</td>\n",
       "      <td>1.000000</td>\n",
       "      <td>60000.000000</td>\n",
       "      <td>1.000000</td>\n",
       "      <td>99.000000</td>\n",
       "      <td>1058.000000</td>\n",
       "      <td>8035.000000</td>\n",
       "      <td>4.410000</td>\n",
       "      <td>854.000000</td>\n",
       "      <td>1.000000</td>\n",
       "      <td>79.990000</td>\n",
       "    </tr>\n",
       "  </tbody>\n",
       "</table>\n",
       "</div>"
      ],
      "text/plain": [
       "       left_object_id       node_id       version  has_en_poster  \\\n",
       "count    2.177300e+04  1.861400e+04  21773.000000   21773.000000   \n",
       "mean     4.847758e+05  1.265855e+07      2.057686       0.332614   \n",
       "std      4.722365e+05  7.641598e+06      1.879934       0.471160   \n",
       "min      1.275000e+03  0.000000e+00      0.000000       0.000000   \n",
       "25%      7.641300e+04  6.263100e+04      1.000000       0.000000   \n",
       "50%      2.691120e+05  1.696750e+07      2.000000       0.000000   \n",
       "75%      8.554020e+05  1.745167e+07      3.000000       1.000000   \n",
       "max      1.355323e+06  1.818401e+07     63.000000       1.000000   \n",
       "\n",
       "           duration  synopsis_original         score         nb_mc  \\\n",
       "count  19859.000000       21773.000000  17469.000000  21733.000000   \n",
       "mean    6004.742132           0.000321     46.990211     24.646068   \n",
       "std     1767.114632           0.017928     27.789148     55.436446   \n",
       "min        0.000000           0.000000      1.000000      0.000000   \n",
       "25%     5400.000000           0.000000     23.000000      3.000000   \n",
       "50%     5940.000000           0.000000     47.000000      6.000000   \n",
       "75%     6660.000000           0.000000     71.000000     20.000000   \n",
       "max    60000.000000           1.000000     99.000000   1058.000000   \n",
       "\n",
       "          nb_rating    avg_rating  recommended_by  riplay_available  \\\n",
       "count  21773.000000  21773.000000    21770.000000      21773.000000   \n",
       "mean     182.001699      2.994627       32.029949          0.443072   \n",
       "std      506.335568      0.552893       79.303694          0.496760   \n",
       "min        5.000000      0.830000        0.000000          0.000000   \n",
       "25%       10.000000      2.650000        2.000000          0.000000   \n",
       "50%       28.000000      3.050000        6.000000          0.000000   \n",
       "75%      111.000000      3.390000       22.000000          1.000000   \n",
       "max     8035.000000      4.410000      854.000000          1.000000   \n",
       "\n",
       "       lowest_price  \n",
       "count   4827.000000  \n",
       "mean       3.949484  \n",
       "std        3.576709  \n",
       "min        1.990000  \n",
       "25%        1.990000  \n",
       "50%        2.990000  \n",
       "75%        4.390000  \n",
       "max       79.990000  "
      ]
     },
     "execution_count": 132,
     "metadata": {},
     "output_type": "execute_result"
    }
   ],
   "source": [
    "#Il semble que le score et le avg_rating ne soient pas liés\n",
    "dff[dff[\"avg_rating\"]>0].describe()"
   ]
  },
  {
   "cell_type": "code",
   "execution_count": 147,
   "metadata": {},
   "outputs": [
    {
     "data": {
      "image/png": "[encoded data removed]",
      "text/plain": [
       "<matplotlib.figure.Figure at 0xa6e96898>"
      ]
     },
     "metadata": {},
     "output_type": "display_data"
    },
    {
     "name": "stdout",
     "output_type": "stream",
     "text": [
      "correlation = 0.7937336599161989\n"
     ]
    }
   ],
   "source": [
    "#testons la corrélation et un scatterplot\n",
    "threshold = 40\n",
    "plt.scatter(dff[dff[\"score\"]>threshold].score, dff[dff[\"score\"]>threshold].avg_rating)\n",
    "plt.xlabel(\"score\")\n",
    "plt.ylabel(\"avg_rating\")\n",
    "plt.title(\"relation avg_rating x score\")\n",
    "plt.show()\n",
    "#correlation\n",
    "print(\"correlation = {}\".format(dff[dff[\"score\"]>threshold].score.corr(dff[dff[\"score\"]>threshold].avg_rating)))"
   ]
  },
  {
   "cell_type": "code",
   "execution_count": null,
   "metadata": {
    "collapsed": true
   },
   "outputs": [],
   "source": []
  }
 ],
 "metadata": {
  "kernelspec": {
   "display_name": "Python 3",
   "language": "python",
   "name": "python3"
  },
  "language_info": {
   "codemirror_mode": {
    "name": "ipython",
    "version": 3
   },
   "file_extension": ".py",
   "mimetype": "text/x-python",
   "name": "python",
   "nbconvert_exporter": "python",
   "pygments_lexer": "ipython3",
   "version": "3.6.1"
  }
 },
 "nbformat": 4,
 "nbformat_minor": 2
}
