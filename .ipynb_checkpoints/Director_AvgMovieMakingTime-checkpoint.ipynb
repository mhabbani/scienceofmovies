{
 "cells": [
  {
   "cell_type": "code",
   "execution_count": 1,
   "metadata": {
    "collapsed": true
   },
   "outputs": [],
   "source": [
    "import csv\n",
    "import numpy as np\n",
    "import pandas as pd\n",
    "import matplotlib.pyplot as plt\n",
    "\n",
    "#chargement fichiers\n",
    "dfa_full = pd.read_csv(\"AllMoviesDetailsCleaned.csv\", sep=\";\", low_memory=False, parse_dates=[\"release_date\"])\n",
    "dfb_full = pd.read_csv(\"AllMoviesCasting.csv\", sep=\";\", low_memory=False)"
   ]
  },
  {
   "cell_type": "code",
   "execution_count": null,
   "metadata": {
    "collapsed": true
   },
   "outputs": [],
   "source": [
    "#Fusion fichiers par ids communes\n",
    "df_full = pd.merge(dfa_full, dfb_full, on='id')\n",
    "#Création fichier avec les seules données pertinentes\n",
    "df_rel = df_full[['id','director_name','release_date', 'original_language','vote_count','vote_average','popularity','genres','runtime','production_companies_number','production_countries_number','spoken_languages_number']].sort_values(by='director_name',ascending=True)\n",
    "#Retraitement de la popularité : quand il y a des puissances (e-)ou des virgules on force à zéro\n",
    "unreadable_popu = np.logical_or(df_rel['popularity'].str.contains(\"e-\"), df_rel['popularity'].str.contains(\",\"))\n",
    "df_rel.loc[unreadable_popu,'popularity'] = 0\n",
    "df_rel['popularity']=df_rel['popularity'].astype(float)"
   ]
  },
  {
   "cell_type": "code",
   "execution_count": 3,
   "metadata": {
    "collapsed": true
   },
   "outputs": [],
   "source": [
    "#Les 01-01-1900 sont aussi visiblement une valeur par défaut chez TMDB, on defaulte à 01-01-1800\n",
    "serie = df_rel['release_date']==pd.Timestamp('1900-01-01')\n",
    "df_rel.loc[serie,'release_date']=pd.Timestamp('1800-01-01')\n",
    "\n",
    "#on defaulte à 01-01-1800 les valeurs nulles\n",
    "serie = pd.isnull(df_rel['release_date'])\n",
    "df_rel.loc[serie,'release_date']=pd.Timestamp('1800-01-01')"
   ]
  },
  {
   "cell_type": "code",
   "execution_count": 4,
   "metadata": {
    "collapsed": true
   },
   "outputs": [],
   "source": [
    "#extraction de l'année et réindexation\n",
    "df_rel['release_date2']=df_rel['release_date'].map(lambda x:x.year)\n",
    "#On réindexe\n",
    "df_rel2 = df_rel.reset_index(drop = True)\n",
    "df = df_rel2"
   ]
  },
  {
   "cell_type": "code",
   "execution_count": 5,
   "metadata": {
    "collapsed": true
   },
   "outputs": [],
   "source": [
    "#Split par genre individuel de chaque film\n",
    "df['genres']=df['genres'].fillna(0)\n",
    "all_genres = ('Drama','Crime','Action','Documentary','Adventure','Animation','Comedy',\n",
    "              'Mystery','Horror','Western','Science Fiction',\n",
    "              'Thriller','Romance','Fantasy','War','Family','Music','History','TV Movie','Foreign')\n",
    "\n",
    "for genre in all_genres:\n",
    "    df[genre]=df['genres'].str.contains(genre,na=False)\n",
    "    df[genre]=df[genre].map({True:1, False:0})"
   ]
  },
  {
   "cell_type": "code",
   "execution_count": 6,
   "metadata": {
    "collapsed": true
   },
   "outputs": [],
   "source": [
    "#Decompte par langage principal & calcul des popularité / vote avg moyens\n",
    "all_lang = ('en','de','fr','es','pt','ja','it','zh','sv','da')\n",
    "\n",
    "for lang in all_lang:\n",
    "    df[lang]=df['original_language'].str.contains(lang,na=False)\n",
    "    df[lang]=df[lang].map({True:1, False:0})\n",
    "    \n",
    "# Petit \"trick\" pour compter le nb de films, \n",
    "# une fois le df groupé par director name dans \"other\" il y aura le nb de films\n",
    "df[\"other\"]=1\n",
    "df_grouped = df.groupby(\"director_name\").sum()\n",
    "\n",
    "\n",
    "#calcul de la popularité moyenne (on inclut les valeurs nulles)\n",
    "df_grouped[\"popularity\"]=df_grouped[\"popularity\"]/df_grouped[\"other\"]\n",
    "\n",
    "\n",
    "# Les films d'un réal en langage \"other\" = (somme de ses films) - (somme de ses films dans un langage principal)\n",
    "for lang in all_lang:\n",
    "    #On modifie le nb de film dans des langages \"autre\" en soustrayant chaque nb de film ds chaque langage\n",
    "    df_grouped[\"other\"]=df_grouped[\"other\"]-df_grouped[lang]\n",
    "\n"
   ]
  },
  {
   "cell_type": "code",
   "execution_count": 7,
   "metadata": {
    "collapsed": true
   },
   "outputs": [],
   "source": [
    "#calcul de la moyenne des features numériques >0\n",
    "for key in (\"vote_average\",\"runtime\",'production_companies_number','production_countries_number','spoken_languages_number'):\n",
    "    df_temp = df.loc[:,(\"director_name\",key)]\n",
    "    gr1 = df_temp[df_temp[key]>0].groupby(\"director_name\").mean()\n",
    "    gr2 = df_temp.groupby(\"director_name\").mean()\n",
    "    gr2 = gr2[gr2[key]==0]\n",
    "    gr2=gr2.append(gr1)\n",
    "    #On écrase la colonne {key} dans df_grouped\n",
    "    df_grouped[key] = gr2[key]"
   ]
  },
  {
   "cell_type": "code",
   "execution_count": 8,
   "metadata": {
    "collapsed": true,
    "scrolled": true
   },
   "outputs": [],
   "source": [
    "#valeurs retenues pour chaque réal: nombre de films, liste des années de sortie des films\n",
    "dir_time=dict()\n",
    "x = 0\n",
    "#parcours de la liste de réals\n",
    "while x < len(df):\n",
    "    dir_name = df.loc[x,'director_name']\n",
    "    dir_time[dir_name] = {'movie_nb':0,'movie_nb_inclnodate':0,'dates':[]}\n",
    "    #les réals sont par ordre alphabétique, on parcourt la liste de films de chacun\n",
    "    while df.loc[x,'director_name'] == dir_name :\n",
    "        dir_time[dir_name]['movie_nb_inclnodate'] +=1\n",
    "        if df.loc[x,'release_date2']!=1800:\n",
    "            dir_time[dir_name]['movie_nb'] +=1\n",
    "            #on ajoute la date à la liste si elle n'y est pas déjà\n",
    "            if df.loc[x,'release_date2'] not in dir_time[dir_name]['dates']:\n",
    "                dir_time[dir_name]['dates'].append(df.loc[x,'release_date2'])\n",
    "            \n",
    "        x += 1\n",
    "        if x == len(df):\n",
    "            break\n",
    "\n",
    "#CALCUL DE LA MOYENNE\n",
    "for key in dir_time:\n",
    "    #valeur par défaut de 2 ans pour le 1er film\n",
    "    if dir_time[key]['movie_nb']>0:\n",
    "        min_date = min(dir_time[key]['dates'])\n",
    "        max_date = max(dir_time[key]['dates'])\n",
    "        avg=round((max_date - min_date + 2) / dir_time[key]['movie_nb'], 1)\n",
    "    \n",
    "    #valeur par défaut de 2 ans si les release_dates sont toutes defaultées\n",
    "    else:\n",
    "        min_date = 1800\n",
    "        max_date = 1800\n",
    "        avg=2\n",
    "        \n",
    "    #Autres infos\n",
    "    dir_time[key]['min_date']=min_date\n",
    "    dir_time[key]['max_date']=max_date\n",
    "    dir_time[key]['career_middle_date']=int((max_date+min_date)/2)\n",
    "    dir_time[key]['avg_time']=avg\n",
    "    \n",
    "    #On vire la clé \"dates\" pour avoir un dictionnaire \"plat\"\n",
    "    dir_time[key].pop('dates', None)\n",
    "\n"
   ]
  },
  {
   "cell_type": "code",
   "execution_count": 9,
   "metadata": {
    "collapsed": true
   },
   "outputs": [],
   "source": [
    "#On transforme dir_time en dataframe\n",
    "df_part1 = pd.DataFrame.from_dict(dir_time, orient='index')\n",
    "\n",
    "#Fusion des dataframes df_part1 (avec la moyenne) et df_grouped (avec les compteurs genre/langage)\n",
    "df_total = pd.concat([df_part1, df_grouped], axis=1)\n",
    "\n",
    "#On vire la colonne \"release_date2\" et l'observation \"none\"\n",
    "df_total.drop(\"release_date2\", axis=1, inplace=True)\n",
    "df_total.drop(\"none\", inplace=True)\n",
    "\n",
    "#Ecriture dans un fichier\n",
    "df_total.to_csv(\"director_avg.csv\",encoding='utf-8', sep=\";\")"
   ]
  },
  {
   "cell_type": "code",
   "execution_count": null,
   "metadata": {
    "collapsed": true
   },
   "outputs": [],
   "source": []
  }
 ],
 "metadata": {
  "kernelspec": {
   "display_name": "Python 3",
   "language": "python",
   "name": "python3"
  },
  "language_info": {
   "codemirror_mode": {
    "name": "ipython",
    "version": 3
   },
   "file_extension": ".py",
   "mimetype": "text/x-python",
   "name": "python",
   "nbconvert_exporter": "python",
   "pygments_lexer": "ipython3",
   "version": "3.6.1"
  }
 },
 "nbformat": 4,
 "nbformat_minor": 2
}
