{
 "cells": [
  {
   "cell_type": "code",
   "execution_count": 22,
   "metadata": {},
   "outputs": [],
   "source": [
    "import csv\n",
    "import numpy as np\n",
    "import pandas as pd\n",
    "import matplotlib.pyplot as plt\n",
    "\n",
    "# Chargement du fichier dans un dataframe\n",
    "df = pd.read_csv(\"MyMoviesDetailsCastingRaw.csv\", sep=\";\",parse_dates=[\"release_date\"])\n",
    "df = df.loc[:,{'title','personal_rating','tmdb_id','original_title','release_date'}]\n",
    "df[\"year\"]= df.release_date.dt.year"
   ]
  },
  {
   "cell_type": "code",
   "execution_count": 5,
   "metadata": {},
   "outputs": [
    {
     "name": "stderr",
     "output_type": "stream",
     "text": [
      "b'Skipping line 22345: expected 28 fields, saw 29\\n'\n"
     ]
    }
   ],
   "source": [
    "dfm = pd.read_csv(\"./data/vod_films.csv\", sep=\"\\t\",encoding=\"utf-8-sig\", error_bad_lines=False, low_memory=False)"
   ]
  },
  {
   "cell_type": "code",
   "execution_count": 15,
   "metadata": {},
   "outputs": [
    {
     "data": {
      "text/html": [
       "<div>\n",
       "<style>\n",
       "    .dataframe thead tr:only-child th {\n",
       "        text-align: right;\n",
       "    }\n",
       "\n",
       "    .dataframe thead th {\n",
       "        text-align: left;\n",
       "    }\n",
       "\n",
       "    .dataframe tbody tr th {\n",
       "        vertical-align: top;\n",
       "    }\n",
       "</style>\n",
       "<table border=\"1\" class=\"dataframe\">\n",
       "  <thead>\n",
       "    <tr style=\"text-align: right;\">\n",
       "      <th></th>\n",
       "      <th>tmdb_id</th>\n",
       "      <th>original_title</th>\n",
       "      <th>title</th>\n",
       "      <th>personal_rating</th>\n",
       "      <th>release_date</th>\n",
       "      <th>year</th>\n",
       "    </tr>\n",
       "  </thead>\n",
       "  <tbody>\n",
       "    <tr>\n",
       "      <th>0</th>\n",
       "      <td>29452.0</td>\n",
       "      <td>他人の顔</td>\n",
       "      <td>The face of another</td>\n",
       "      <td>3</td>\n",
       "      <td>1966-07-15</td>\n",
       "      <td>1966.0</td>\n",
       "    </tr>\n",
       "    <tr>\n",
       "      <th>1</th>\n",
       "      <td>NaN</td>\n",
       "      <td>NaN</td>\n",
       "      <td>Happy people : One year in the taiga</td>\n",
       "      <td>4</td>\n",
       "      <td>NaT</td>\n",
       "      <td>NaN</td>\n",
       "    </tr>\n",
       "  </tbody>\n",
       "</table>\n",
       "</div>"
      ],
      "text/plain": [
       "   tmdb_id original_title                                 title  \\\n",
       "0  29452.0           他人の顔                   The face of another   \n",
       "1      NaN            NaN  Happy people : One year in the taiga   \n",
       "\n",
       "   personal_rating release_date    year  \n",
       "0                3   1966-07-15  1966.0  \n",
       "1                4          NaT     NaN  "
      ]
     },
     "execution_count": 15,
     "metadata": {},
     "output_type": "execute_result"
    }
   ],
   "source": [
    "df[:2]"
   ]
  },
  {
   "cell_type": "code",
   "execution_count": 16,
   "metadata": {},
   "outputs": [
    {
     "data": {
      "text/html": [
       "<div>\n",
       "<style>\n",
       "    .dataframe thead tr:only-child th {\n",
       "        text-align: right;\n",
       "    }\n",
       "\n",
       "    .dataframe thead th {\n",
       "        text-align: left;\n",
       "    }\n",
       "\n",
       "    .dataframe tbody tr th {\n",
       "        vertical-align: top;\n",
       "    }\n",
       "</style>\n",
       "<table border=\"1\" class=\"dataframe\">\n",
       "  <thead>\n",
       "    <tr style=\"text-align: right;\">\n",
       "      <th></th>\n",
       "      <th>id</th>\n",
       "      <th>node_id</th>\n",
       "      <th>version</th>\n",
       "      <th>title</th>\n",
       "      <th>original_title</th>\n",
       "      <th>english_title</th>\n",
       "      <th>has_en_poster</th>\n",
       "      <th>synopsis</th>\n",
       "      <th>year</th>\n",
       "      <th>release_date</th>\n",
       "      <th>...</th>\n",
       "      <th>synopsis_original</th>\n",
       "      <th>score</th>\n",
       "      <th>nb_mc</th>\n",
       "      <th>nb_rating</th>\n",
       "      <th>avg_rating</th>\n",
       "      <th>recommended_by</th>\n",
       "      <th>riplay_available</th>\n",
       "      <th>lowest_price</th>\n",
       "      <th>best_mc_json</th>\n",
       "      <th>human_update_date</th>\n",
       "    </tr>\n",
       "  </thead>\n",
       "  <tbody>\n",
       "    <tr>\n",
       "      <th>0</th>\n",
       "      <td>1269</td>\n",
       "      <td>1234.0</td>\n",
       "      <td>4.0</td>\n",
       "      <td>Le Chaos</td>\n",
       "      <td>Heya fawda</td>\n",
       "      <td>Chaos</td>\n",
       "      <td>0</td>\n",
       "      <td>Le Caire, de nos jours. Hatem, policier véreux...</td>\n",
       "      <td>2007</td>\n",
       "      <td>2007-12-05</td>\n",
       "      <td>...</td>\n",
       "      <td>0.0</td>\n",
       "      <td>NaN</td>\n",
       "      <td>0.0</td>\n",
       "      <td>4.0</td>\n",
       "      <td>0.00</td>\n",
       "      <td>1.0</td>\n",
       "      <td>0.0</td>\n",
       "      <td>NaN</td>\n",
       "      <td>NaN</td>\n",
       "      <td>2014-03-27 19:54:53</td>\n",
       "    </tr>\n",
       "    <tr>\n",
       "      <th>1</th>\n",
       "      <td>1275</td>\n",
       "      <td>1240.0</td>\n",
       "      <td>2.0</td>\n",
       "      <td>Alexandrie... New York</td>\n",
       "      <td>NaN</td>\n",
       "      <td>NaN</td>\n",
       "      <td>0</td>\n",
       "      <td>&lt;p&gt;A l'occasion d'un hommage qui lui est rendu...</td>\n",
       "      <td>2004</td>\n",
       "      <td>NaN</td>\n",
       "      <td>...</td>\n",
       "      <td>0.0</td>\n",
       "      <td>NaN</td>\n",
       "      <td>1.0</td>\n",
       "      <td>5.0</td>\n",
       "      <td>3.25</td>\n",
       "      <td>0.0</td>\n",
       "      <td>1.0</td>\n",
       "      <td>NaN</td>\n",
       "      <td>{\"id\":6381419,\"user_id\":1295411,\"object_id\":12...</td>\n",
       "      <td>2014-03-27 19:55:02</td>\n",
       "    </tr>\n",
       "  </tbody>\n",
       "</table>\n",
       "<p>2 rows × 28 columns</p>\n",
       "</div>"
      ],
      "text/plain": [
       "     id  node_id  version                   title original_title  \\\n",
       "0  1269   1234.0      4.0                Le Chaos     Heya fawda   \n",
       "1  1275   1240.0      2.0  Alexandrie... New York            NaN   \n",
       "\n",
       "  english_title  has_en_poster  \\\n",
       "0         Chaos              0   \n",
       "1           NaN              0   \n",
       "\n",
       "                                            synopsis  year release_date  \\\n",
       "0  Le Caire, de nos jours. Hatem, policier véreux...  2007   2007-12-05   \n",
       "1  <p>A l'occasion d'un hommage qui lui est rendu...  2004          NaN   \n",
       "\n",
       "          ...          synopsis_original score nb_mc  nb_rating avg_rating  \\\n",
       "0         ...                        0.0   NaN   0.0        4.0       0.00   \n",
       "1         ...                        0.0   NaN   1.0        5.0       3.25   \n",
       "\n",
       "  recommended_by riplay_available lowest_price  \\\n",
       "0            1.0              0.0          NaN   \n",
       "1            0.0              1.0          NaN   \n",
       "\n",
       "                                        best_mc_json    human_update_date  \n",
       "0                                                NaN  2014-03-27 19:54:53  \n",
       "1  {\"id\":6381419,\"user_id\":1295411,\"object_id\":12...  2014-03-27 19:55:02  \n",
       "\n",
       "[2 rows x 28 columns]"
      ]
     },
     "execution_count": 16,
     "metadata": {},
     "output_type": "execute_result"
    }
   ],
   "source": [
    "dfm[:2]"
   ]
  },
  {
   "cell_type": "code",
   "execution_count": 30,
   "metadata": {},
   "outputs": [
    {
     "data": {
      "text/plain": [
       "(333982, 33)"
      ]
     },
     "execution_count": 30,
     "metadata": {},
     "output_type": "execute_result"
    }
   ],
   "source": [
    "#dff = df.rename(columns = {'title':'english_title'}).merge(dfm, how='inner',on='english_title')\n",
    "dff = df.merge(dfm, how='inner',on='original_title')\n",
    "dff.shape"
   ]
  },
  {
   "cell_type": "code",
   "execution_count": null,
   "metadata": {},
   "outputs": [],
   "source": []
  }
 ],
 "metadata": {
  "kernelspec": {
   "display_name": "Python 3",
   "language": "python",
   "name": "python3"
  },
  "language_info": {
   "codemirror_mode": {
    "name": "ipython",
    "version": 3
   },
   "file_extension": ".py",
   "mimetype": "text/x-python",
   "name": "python",
   "nbconvert_exporter": "python",
   "pygments_lexer": "ipython3",
   "version": "3.6.1"
  }
 },
 "nbformat": 4,
 "nbformat_minor": 2
}
