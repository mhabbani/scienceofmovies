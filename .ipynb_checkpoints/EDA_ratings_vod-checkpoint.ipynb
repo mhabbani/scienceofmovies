{
 "cells": [
  {
   "cell_type": "code",
   "execution_count": 1,
   "metadata": {},
   "outputs": [],
   "source": [
    "import csv\n",
    "import numpy as np\n",
    "import pandas as pd\n",
    "import matplotlib.pyplot as plt\n",
    "\n",
    "#chargement fichiers\n",
    "df = pd.read_csv(\"./data/rating.csv\", sep=\"\\t\",encoding=\"utf-8-sig\", error_bad_lines=False, low_memory=False)\n"
   ]
  },
  {
   "cell_type": "code",
   "execution_count": 2,
   "metadata": {},
   "outputs": [
    {
     "data": {
      "image/png": "[encoded data removed]",
      "text/plain": [
       "<matplotlib.figure.Figure at 0x212f1d78748>"
      ]
     },
     "metadata": {},
     "output_type": "display_data"
    }
   ],
   "source": [
    "# Distrib des avg_ratings (1-5)\n",
    "plt.hist(df.value,bins=[0.5,1,1.5,2,2.5,3,3.5,4,4.5,5])\n",
    "plt.xlabel(\"rating\")\n",
    "plt.ylabel(\"# of movies\")\n",
    "plt.title(\"Distribution of vodkaster rating\")\n",
    "\n",
    "#On affiche\n",
    "plt.show()"
   ]
  },
  {
   "cell_type": "code",
   "execution_count": 3,
   "metadata": {},
   "outputs": [
    {
     "data": {
      "text/html": [
       "<div>\n",
       "<style>\n",
       "    .dataframe thead tr:only-child th {\n",
       "        text-align: right;\n",
       "    }\n",
       "\n",
       "    .dataframe thead th {\n",
       "        text-align: left;\n",
       "    }\n",
       "\n",
       "    .dataframe tbody tr th {\n",
       "        vertical-align: top;\n",
       "    }\n",
       "</style>\n",
       "<table border=\"1\" class=\"dataframe\">\n",
       "  <thead>\n",
       "    <tr style=\"text-align: right;\">\n",
       "      <th></th>\n",
       "      <th>id</th>\n",
       "      <th>user_id</th>\n",
       "      <th>value</th>\n",
       "      <th>object_id</th>\n",
       "      <th>object_type</th>\n",
       "      <th>creation_date</th>\n",
       "    </tr>\n",
       "  </thead>\n",
       "  <tbody>\n",
       "    <tr>\n",
       "      <th>0</th>\n",
       "      <td>64</td>\n",
       "      <td>73</td>\n",
       "      <td>1.0</td>\n",
       "      <td>3618</td>\n",
       "      <td>film</td>\n",
       "      <td>2008-12-04 10:38:12</td>\n",
       "    </tr>\n",
       "    <tr>\n",
       "      <th>1</th>\n",
       "      <td>66</td>\n",
       "      <td>14</td>\n",
       "      <td>4.0</td>\n",
       "      <td>3911</td>\n",
       "      <td>film</td>\n",
       "      <td>2008-12-04 11:58:17</td>\n",
       "    </tr>\n",
       "    <tr>\n",
       "      <th>2</th>\n",
       "      <td>67</td>\n",
       "      <td>14</td>\n",
       "      <td>3.0</td>\n",
       "      <td>4828</td>\n",
       "      <td>film</td>\n",
       "      <td>2008-12-04 12:39:05</td>\n",
       "    </tr>\n",
       "    <tr>\n",
       "      <th>3</th>\n",
       "      <td>68</td>\n",
       "      <td>6842</td>\n",
       "      <td>3.0</td>\n",
       "      <td>6909</td>\n",
       "      <td>film</td>\n",
       "      <td>2008-12-04 14:17:30</td>\n",
       "    </tr>\n",
       "    <tr>\n",
       "      <th>4</th>\n",
       "      <td>73</td>\n",
       "      <td>6842</td>\n",
       "      <td>4.0</td>\n",
       "      <td>9371</td>\n",
       "      <td>film</td>\n",
       "      <td>2008-12-04 15:03:51</td>\n",
       "    </tr>\n",
       "  </tbody>\n",
       "</table>\n",
       "</div>"
      ],
      "text/plain": [
       "   id  user_id  value  object_id object_type        creation_date\n",
       "0  64       73    1.0       3618        film  2008-12-04 10:38:12\n",
       "1  66       14    4.0       3911        film  2008-12-04 11:58:17\n",
       "2  67       14    3.0       4828        film  2008-12-04 12:39:05\n",
       "3  68     6842    3.0       6909        film  2008-12-04 14:17:30\n",
       "4  73     6842    4.0       9371        film  2008-12-04 15:03:51"
      ]
     },
     "execution_count": 3,
     "metadata": {},
     "output_type": "execute_result"
    }
   ],
   "source": [
    "df[:5]"
   ]
  },
  {
   "cell_type": "code",
   "execution_count": 5,
   "metadata": {},
   "outputs": [
    {
     "data": {
      "image/png": "[encoded data removed]",
      "text/plain": [
       "<matplotlib.figure.Figure at 0x212e8b08438>"
      ]
     },
     "metadata": {},
     "output_type": "display_data"
    }
   ],
   "source": [
    "# Distrib du nb de rating (=popularité des films)\n",
    "rg = df.groupby('object_id').count()['id']\n",
    "plt.hist(rg,bins=range(500,9000,500))\n",
    "plt.xlabel(\"# of rating\")\n",
    "plt.ylabel(\"# of movies\")\n",
    "plt.title(\"Distribution of vodkaster number of ratings\")\n",
    "\n",
    "#On affiche\n",
    "plt.show()"
   ]
  },
  {
   "cell_type": "code",
   "execution_count": null,
   "metadata": {},
   "outputs": [],
   "source": []
  },
  {
   "cell_type": "code",
   "execution_count": 11,
   "metadata": {},
   "outputs": [
    {
     "name": "stderr",
     "output_type": "stream",
     "text": [
      "b'Skipping line 22345: expected 28 fields, saw 29\\n'\n"
     ]
    },
    {
     "data": {
      "text/html": [
       "<div>\n",
       "<style>\n",
       "    .dataframe thead tr:only-child th {\n",
       "        text-align: right;\n",
       "    }\n",
       "\n",
       "    .dataframe thead th {\n",
       "        text-align: left;\n",
       "    }\n",
       "\n",
       "    .dataframe tbody tr th {\n",
       "        vertical-align: top;\n",
       "    }\n",
       "</style>\n",
       "<table border=\"1\" class=\"dataframe\">\n",
       "  <thead>\n",
       "    <tr style=\"text-align: right;\">\n",
       "      <th></th>\n",
       "      <th>value</th>\n",
       "      <th>film_id</th>\n",
       "      <th>title</th>\n",
       "      <th>year</th>\n",
       "      <th>user_id</th>\n",
       "    </tr>\n",
       "  </thead>\n",
       "  <tbody>\n",
       "    <tr>\n",
       "      <th>0</th>\n",
       "      <td>1.0</td>\n",
       "      <td>1269</td>\n",
       "      <td>Le Chaos</td>\n",
       "      <td>2007</td>\n",
       "      <td>67781</td>\n",
       "    </tr>\n",
       "    <tr>\n",
       "      <th>1</th>\n",
       "      <td>3.5</td>\n",
       "      <td>1269</td>\n",
       "      <td>Le Chaos</td>\n",
       "      <td>2007</td>\n",
       "      <td>756947</td>\n",
       "    </tr>\n",
       "    <tr>\n",
       "      <th>2</th>\n",
       "      <td>2.0</td>\n",
       "      <td>1269</td>\n",
       "      <td>Le Chaos</td>\n",
       "      <td>2007</td>\n",
       "      <td>907563</td>\n",
       "    </tr>\n",
       "    <tr>\n",
       "      <th>3</th>\n",
       "      <td>4.0</td>\n",
       "      <td>1269</td>\n",
       "      <td>Le Chaos</td>\n",
       "      <td>2007</td>\n",
       "      <td>929770</td>\n",
       "    </tr>\n",
       "    <tr>\n",
       "      <th>4</th>\n",
       "      <td>4.0</td>\n",
       "      <td>1275</td>\n",
       "      <td>Alexandrie... New York</td>\n",
       "      <td>2004</td>\n",
       "      <td>737070</td>\n",
       "    </tr>\n",
       "  </tbody>\n",
       "</table>\n",
       "</div>"
      ],
      "text/plain": [
       "   value  film_id                   title  year  user_id\n",
       "0    1.0     1269                Le Chaos  2007    67781\n",
       "1    3.5     1269                Le Chaos  2007   756947\n",
       "2    2.0     1269                Le Chaos  2007   907563\n",
       "3    4.0     1269                Le Chaos  2007   929770\n",
       "4    4.0     1275  Alexandrie... New York  2004   737070"
      ]
     },
     "execution_count": 11,
     "metadata": {},
     "output_type": "execute_result"
    }
   ],
   "source": [
    "#Jointure avec les films vodkaster\n",
    "dff = pd.read_csv(\"./data/vod_films.csv\", sep=\"\\t\",encoding=\"utf-8\", error_bad_lines=False, low_memory=False)\n",
    "dff = dff.loc[:,{'id','title','year'}]\n",
    "dff = dff.rename(columns = {'id':'object_id'})\n",
    "dff = dff.merge(df,how='inner',on='object_id')\n",
    "dff = dff.loc[:,{'object_id','title','year','user_id','value'}]\n",
    "dff = dff.rename(columns = {'object_id':'film_id'})\n",
    "dff[:5]\n",
    "df=dff"
   ]
  },
  {
   "cell_type": "code",
   "execution_count": 17,
   "metadata": {},
   "outputs": [
    {
     "data": {
      "text/plain": [
       "25857"
      ]
     },
     "execution_count": 17,
     "metadata": {},
     "output_type": "execute_result"
    }
   ],
   "source": [
    "#Combien d'utilisateurs distincts ?\n",
    "len(df.user_id.unique())"
   ]
  },
  {
   "cell_type": "code",
   "execution_count": 23,
   "metadata": {},
   "outputs": [],
   "source": [
    "#Creation du dataset des films moins bien notés par les utilisateurs ayant vu ce titre \n",
    "titre = \"Eros + Massacre\"\n",
    "dft = df[df[\"title\"]==titre]"
   ]
  },
  {
   "cell_type": "code",
   "execution_count": 57,
   "metadata": {},
   "outputs": [],
   "source": [
    "df_other = pd.DataFrame()\n",
    "df_other = dft.loc[:,{'value','user_id'}]\n",
    "df_other = df_other.rename(columns = {'value':'titre_ref_score'})\n",
    "df_other = df_other.merge(dff,how='inner',on='user_id')\n",
    "df_other = df_other.rename(columns = {'value':'titre_other_score'})\n",
    "df_other['score_ref_moins_other'] = df_other.titre_ref_score-df_other.titre_other_score"
   ]
  },
  {
   "cell_type": "code",
   "execution_count": 58,
   "metadata": {},
   "outputs": [
    {
     "data": {
      "image/png": "[encoded data removed]",
      "text/plain": [
       "<matplotlib.figure.Figure at 0x21283578c18>"
      ]
     },
     "metadata": {},
     "output_type": "display_data"
    }
   ],
   "source": [
    "# Distrib du nb de note par utilisateur\n",
    "rg = df_other.groupby('user_id').count()['year']\n",
    "plt.hist(rg,bins=range(500,9000,500))\n",
    "plt.xlabel(\"# of rating\")\n",
    "plt.ylabel(\"# of users\")\n",
    "plt.title(\"Distribution of vodkaster number of ratings by user\")\n",
    "\n",
    "#On affiche\n",
    "plt.show()\n",
    "\n",
    "#COnclusion : pour le titre de \"eros + massacre\", le film a été vu par des gros power users (3k films par user en moyenne oO)"
   ]
  },
  {
   "cell_type": "code",
   "execution_count": 71,
   "metadata": {},
   "outputs": [
    {
     "data": {
      "text/plain": [
       "title\n",
       "Scarface                 30\n",
       "Les Misérables           29\n",
       "King Kong                29\n",
       "Dracula                  25\n",
       "Macbeth                  23\n",
       "La Belle et la Bête      22\n",
       "Solaris                  22\n",
       "Les Visiteurs            21\n",
       "La Planète des singes    21\n",
       "Robin des Bois           21\n",
       "Name: user_id, dtype: int64"
      ]
     },
     "execution_count": 71,
     "metadata": {},
     "output_type": "execute_result"
    }
   ],
   "source": [
    "#quels sont les autres films qui ont été les plus vus par ceux qui ont vu 'eros + massacre' ?\n",
    "df_other.groupby('title').count()['user_id'].sort_values(ascending=False)[:10]\n",
    "#en toute logique on a les films les plus populaires qui apparaissent....il faudrait virer les films 'trop vus'\n",
    "#ceux qui apparaissent plus de fois que le nb de users correspondent à des films qui ont le même titre\n",
    "#pour eliminer le pb il suffit de grouper par identifiant unique"
   ]
  },
  {
   "cell_type": "code",
   "execution_count": 72,
   "metadata": {},
   "outputs": [
    {
     "data": {
      "text/html": [
       "<div>\n",
       "<style>\n",
       "    .dataframe thead tr:only-child th {\n",
       "        text-align: right;\n",
       "    }\n",
       "\n",
       "    .dataframe thead th {\n",
       "        text-align: left;\n",
       "    }\n",
       "\n",
       "    .dataframe tbody tr th {\n",
       "        vertical-align: top;\n",
       "    }\n",
       "</style>\n",
       "<table border=\"1\" class=\"dataframe\">\n",
       "  <thead>\n",
       "    <tr style=\"text-align: right;\">\n",
       "      <th></th>\n",
       "      <th>user_id</th>\n",
       "      <th>titre_ref_score</th>\n",
       "      <th>titre_other_score</th>\n",
       "      <th>film_id</th>\n",
       "      <th>title</th>\n",
       "      <th>year</th>\n",
       "      <th>score_ref_moins_other</th>\n",
       "    </tr>\n",
       "  </thead>\n",
       "  <tbody>\n",
       "    <tr>\n",
       "      <th>0</th>\n",
       "      <td>183088</td>\n",
       "      <td>5.0</td>\n",
       "      <td>3.0</td>\n",
       "      <td>1461</td>\n",
       "      <td>Les Anges déchus</td>\n",
       "      <td>1995</td>\n",
       "      <td>2.0</td>\n",
       "    </tr>\n",
       "    <tr>\n",
       "      <th>1</th>\n",
       "      <td>183088</td>\n",
       "      <td>5.0</td>\n",
       "      <td>1.0</td>\n",
       "      <td>1529</td>\n",
       "      <td>Les Cendres du temps - Redux</td>\n",
       "      <td>2008</td>\n",
       "      <td>4.0</td>\n",
       "    </tr>\n",
       "    <tr>\n",
       "      <th>2</th>\n",
       "      <td>183088</td>\n",
       "      <td>5.0</td>\n",
       "      <td>4.0</td>\n",
       "      <td>1541</td>\n",
       "      <td>2046</td>\n",
       "      <td>2004</td>\n",
       "      <td>1.0</td>\n",
       "    </tr>\n",
       "    <tr>\n",
       "      <th>3</th>\n",
       "      <td>183088</td>\n",
       "      <td>5.0</td>\n",
       "      <td>5.0</td>\n",
       "      <td>1553</td>\n",
       "      <td>In the Mood for Love</td>\n",
       "      <td>2000</td>\n",
       "      <td>0.0</td>\n",
       "    </tr>\n",
       "    <tr>\n",
       "      <th>4</th>\n",
       "      <td>183088</td>\n",
       "      <td>5.0</td>\n",
       "      <td>4.0</td>\n",
       "      <td>1557</td>\n",
       "      <td>Happy Together</td>\n",
       "      <td>1997</td>\n",
       "      <td>1.0</td>\n",
       "    </tr>\n",
       "    <tr>\n",
       "      <th>5</th>\n",
       "      <td>183088</td>\n",
       "      <td>5.0</td>\n",
       "      <td>1.0</td>\n",
       "      <td>1559</td>\n",
       "      <td>Les Cendres du temps</td>\n",
       "      <td>1996</td>\n",
       "      <td>4.0</td>\n",
       "    </tr>\n",
       "    <tr>\n",
       "      <th>6</th>\n",
       "      <td>183088</td>\n",
       "      <td>5.0</td>\n",
       "      <td>3.0</td>\n",
       "      <td>1565</td>\n",
       "      <td>Nos années sauvages</td>\n",
       "      <td>1991</td>\n",
       "      <td>2.0</td>\n",
       "    </tr>\n",
       "    <tr>\n",
       "      <th>7</th>\n",
       "      <td>183088</td>\n",
       "      <td>5.0</td>\n",
       "      <td>4.0</td>\n",
       "      <td>1571</td>\n",
       "      <td>Chungking Express</td>\n",
       "      <td>1995</td>\n",
       "      <td>1.0</td>\n",
       "    </tr>\n",
       "    <tr>\n",
       "      <th>8</th>\n",
       "      <td>183088</td>\n",
       "      <td>5.0</td>\n",
       "      <td>5.0</td>\n",
       "      <td>1883</td>\n",
       "      <td>Three times</td>\n",
       "      <td>2004</td>\n",
       "      <td>0.0</td>\n",
       "    </tr>\n",
       "    <tr>\n",
       "      <th>9</th>\n",
       "      <td>183088</td>\n",
       "      <td>5.0</td>\n",
       "      <td>3.0</td>\n",
       "      <td>1893</td>\n",
       "      <td>Café lumière</td>\n",
       "      <td>2004</td>\n",
       "      <td>2.0</td>\n",
       "    </tr>\n",
       "  </tbody>\n",
       "</table>\n",
       "</div>"
      ],
      "text/plain": [
       "   user_id  titre_ref_score  titre_other_score  film_id  \\\n",
       "0   183088              5.0                3.0     1461   \n",
       "1   183088              5.0                1.0     1529   \n",
       "2   183088              5.0                4.0     1541   \n",
       "3   183088              5.0                5.0     1553   \n",
       "4   183088              5.0                4.0     1557   \n",
       "5   183088              5.0                1.0     1559   \n",
       "6   183088              5.0                3.0     1565   \n",
       "7   183088              5.0                4.0     1571   \n",
       "8   183088              5.0                5.0     1883   \n",
       "9   183088              5.0                3.0     1893   \n",
       "\n",
       "                          title  year  score_ref_moins_other  \n",
       "0              Les Anges déchus  1995                    2.0  \n",
       "1  Les Cendres du temps - Redux  2008                    4.0  \n",
       "2                          2046  2004                    1.0  \n",
       "3          In the Mood for Love  2000                    0.0  \n",
       "4                Happy Together  1997                    1.0  \n",
       "5          Les Cendres du temps  1996                    4.0  \n",
       "6           Nos années sauvages  1991                    2.0  \n",
       "7             Chungking Express  1995                    1.0  \n",
       "8                   Three times  2004                    0.0  \n",
       "9                  Café lumière  2004                    2.0  "
      ]
     },
     "execution_count": 72,
     "metadata": {},
     "output_type": "execute_result"
    }
   ],
   "source": [
    "df_other[:10]"
   ]
  },
  {
   "cell_type": "code",
   "execution_count": 76,
   "metadata": {},
   "outputs": [],
   "source": [
    "s=range (0,10,1)"
   ]
  },
  {
   "cell_type": "code",
   "execution_count": null,
   "metadata": {},
   "outputs": [],
   "source": []
  }
 ],
 "metadata": {
  "kernelspec": {
   "display_name": "Python 3",
   "language": "python",
   "name": "python3"
  },
  "language_info": {
   "codemirror_mode": {
    "name": "ipython",
    "version": 3
   },
   "file_extension": ".py",
   "mimetype": "text/x-python",
   "name": "python",
   "nbconvert_exporter": "python",
   "pygments_lexer": "ipython3",
   "version": "3.6.1"
  }
 },
 "nbformat": 4,
 "nbformat_minor": 2
}
