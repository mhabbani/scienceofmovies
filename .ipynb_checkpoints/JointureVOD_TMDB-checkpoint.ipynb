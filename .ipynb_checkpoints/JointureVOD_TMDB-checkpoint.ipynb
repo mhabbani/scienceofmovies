{
 "cells": [
  {
   "cell_type": "code",
   "execution_count": 2,
   "metadata": {},
   "outputs": [],
   "source": [
    "import csv\n",
    "import numpy as np\n",
    "import pandas as pd\n",
    "import matplotlib.pyplot as plt\n",
    "\n",
    "#chargement fichiers\n",
    "dfa_tmdb = pd.read_csv(\"./data/AllMoviesDetailsCleaned.csv\", sep=\";\",encoding=\"utf-8-sig\", low_memory=False, parse_dates=[\"release_date\"])\n"
   ]
  },
  {
   "cell_type": "code",
   "execution_count": 9,
   "metadata": {},
   "outputs": [
    {
     "name": "stderr",
     "output_type": "stream",
     "text": [
      "b'Skipping line 22345: expected 28 fields, saw 29\\n'\n"
     ]
    }
   ],
   "source": [
    "dfa_vod = pd.read_csv(\"./data/vod_films.csv\",sep=\"\\t\",encoding=\"utf-8-sig\", error_bad_lines=False, low_memory=False)"
   ]
  },
  {
   "cell_type": "code",
   "execution_count": 13,
   "metadata": {},
   "outputs": [
    {
     "data": {
      "text/html": [
       "<div>\n",
       "<style>\n",
       "    .dataframe thead tr:only-child th {\n",
       "        text-align: right;\n",
       "    }\n",
       "\n",
       "    .dataframe thead th {\n",
       "        text-align: left;\n",
       "    }\n",
       "\n",
       "    .dataframe tbody tr th {\n",
       "        vertical-align: top;\n",
       "    }\n",
       "</style>\n",
       "<table border=\"1\" class=\"dataframe\">\n",
       "  <thead>\n",
       "    <tr style=\"text-align: right;\">\n",
       "      <th></th>\n",
       "      <th>id</th>\n",
       "      <th>budget</th>\n",
       "      <th>genres</th>\n",
       "      <th>imdb_id</th>\n",
       "      <th>original_language</th>\n",
       "      <th>original_title</th>\n",
       "      <th>overview</th>\n",
       "      <th>popularity</th>\n",
       "      <th>production_companies</th>\n",
       "      <th>production_countries</th>\n",
       "      <th>...</th>\n",
       "      <th>runtime</th>\n",
       "      <th>spoken_languages</th>\n",
       "      <th>status</th>\n",
       "      <th>tagline</th>\n",
       "      <th>title</th>\n",
       "      <th>vote_average</th>\n",
       "      <th>vote_count</th>\n",
       "      <th>production_companies_number</th>\n",
       "      <th>production_countries_number</th>\n",
       "      <th>spoken_languages_number</th>\n",
       "    </tr>\n",
       "  </thead>\n",
       "  <tbody>\n",
       "    <tr>\n",
       "      <th>0</th>\n",
       "      <td>2</td>\n",
       "      <td>0</td>\n",
       "      <td>Drama|Crime</td>\n",
       "      <td>tt0094675</td>\n",
       "      <td>fi</td>\n",
       "      <td>Ariel</td>\n",
       "      <td>Taisto Kasurinen is a Finnish coal miner whose...</td>\n",
       "      <td>0.823904</td>\n",
       "      <td>Villealfa Filmproduction Oy</td>\n",
       "      <td>Finland</td>\n",
       "      <td>...</td>\n",
       "      <td>69.0</td>\n",
       "      <td>suomi</td>\n",
       "      <td>Released</td>\n",
       "      <td>NaN</td>\n",
       "      <td>Ariel</td>\n",
       "      <td>7.1</td>\n",
       "      <td>40</td>\n",
       "      <td>2</td>\n",
       "      <td>1</td>\n",
       "      <td>2</td>\n",
       "    </tr>\n",
       "    <tr>\n",
       "      <th>1</th>\n",
       "      <td>3</td>\n",
       "      <td>0</td>\n",
       "      <td>Drama|Comedy</td>\n",
       "      <td>tt0092149</td>\n",
       "      <td>fi</td>\n",
       "      <td>Varjoja paratiisissa</td>\n",
       "      <td>An episode in the life of Nikander, a garbage ...</td>\n",
       "      <td>0.47445</td>\n",
       "      <td>Villealfa Filmproduction Oy</td>\n",
       "      <td>Finland</td>\n",
       "      <td>...</td>\n",
       "      <td>76.0</td>\n",
       "      <td>English</td>\n",
       "      <td>Released</td>\n",
       "      <td>NaN</td>\n",
       "      <td>Shadows in Paradise</td>\n",
       "      <td>7.0</td>\n",
       "      <td>32</td>\n",
       "      <td>1</td>\n",
       "      <td>1</td>\n",
       "      <td>3</td>\n",
       "    </tr>\n",
       "  </tbody>\n",
       "</table>\n",
       "<p>2 rows × 22 columns</p>\n",
       "</div>"
      ],
      "text/plain": [
       "   id  budget        genres    imdb_id original_language  \\\n",
       "0   2       0   Drama|Crime  tt0094675                fi   \n",
       "1   3       0  Drama|Comedy  tt0092149                fi   \n",
       "\n",
       "         original_title                                           overview  \\\n",
       "0                 Ariel  Taisto Kasurinen is a Finnish coal miner whose...   \n",
       "1  Varjoja paratiisissa  An episode in the life of Nikander, a garbage ...   \n",
       "\n",
       "  popularity         production_companies production_countries  \\\n",
       "0   0.823904  Villealfa Filmproduction Oy              Finland   \n",
       "1    0.47445  Villealfa Filmproduction Oy              Finland   \n",
       "\n",
       "            ...            runtime  spoken_languages    status tagline  \\\n",
       "0           ...               69.0             suomi  Released     NaN   \n",
       "1           ...               76.0           English  Released     NaN   \n",
       "\n",
       "                 title vote_average vote_count  production_companies_number  \\\n",
       "0                Ariel          7.1         40                            2   \n",
       "1  Shadows in Paradise          7.0         32                            1   \n",
       "\n",
       "   production_countries_number  spoken_languages_number  \n",
       "0                            1                        2  \n",
       "1                            1                        3  \n",
       "\n",
       "[2 rows x 22 columns]"
      ]
     },
     "execution_count": 13,
     "metadata": {},
     "output_type": "execute_result"
    }
   ],
   "source": [
    "dfa_tmdb[:2]"
   ]
  },
  {
   "cell_type": "code",
   "execution_count": 14,
   "metadata": {},
   "outputs": [
    {
     "data": {
      "text/html": [
       "<div>\n",
       "<style>\n",
       "    .dataframe thead tr:only-child th {\n",
       "        text-align: right;\n",
       "    }\n",
       "\n",
       "    .dataframe thead th {\n",
       "        text-align: left;\n",
       "    }\n",
       "\n",
       "    .dataframe tbody tr th {\n",
       "        vertical-align: top;\n",
       "    }\n",
       "</style>\n",
       "<table border=\"1\" class=\"dataframe\">\n",
       "  <thead>\n",
       "    <tr style=\"text-align: right;\">\n",
       "      <th></th>\n",
       "      <th>id</th>\n",
       "      <th>node_id</th>\n",
       "      <th>version</th>\n",
       "      <th>title</th>\n",
       "      <th>original_title</th>\n",
       "      <th>english_title</th>\n",
       "      <th>has_en_poster</th>\n",
       "      <th>synopsis</th>\n",
       "      <th>year</th>\n",
       "      <th>release_date</th>\n",
       "      <th>...</th>\n",
       "      <th>synopsis_original</th>\n",
       "      <th>score</th>\n",
       "      <th>nb_mc</th>\n",
       "      <th>nb_rating</th>\n",
       "      <th>avg_rating</th>\n",
       "      <th>recommended_by</th>\n",
       "      <th>riplay_available</th>\n",
       "      <th>lowest_price</th>\n",
       "      <th>best_mc_json</th>\n",
       "      <th>human_update_date</th>\n",
       "    </tr>\n",
       "  </thead>\n",
       "  <tbody>\n",
       "    <tr>\n",
       "      <th>0</th>\n",
       "      <td>1269</td>\n",
       "      <td>1234.0</td>\n",
       "      <td>4.0</td>\n",
       "      <td>Le Chaos</td>\n",
       "      <td>Heya fawda</td>\n",
       "      <td>Chaos</td>\n",
       "      <td>0</td>\n",
       "      <td>Le Caire, de nos jours. Hatem, policier véreux...</td>\n",
       "      <td>2007</td>\n",
       "      <td>2007-12-05</td>\n",
       "      <td>...</td>\n",
       "      <td>0.0</td>\n",
       "      <td>NaN</td>\n",
       "      <td>0.0</td>\n",
       "      <td>4.0</td>\n",
       "      <td>0.00</td>\n",
       "      <td>1.0</td>\n",
       "      <td>0.0</td>\n",
       "      <td>NaN</td>\n",
       "      <td>NaN</td>\n",
       "      <td>2014-03-27 19:54:53</td>\n",
       "    </tr>\n",
       "    <tr>\n",
       "      <th>1</th>\n",
       "      <td>1275</td>\n",
       "      <td>1240.0</td>\n",
       "      <td>2.0</td>\n",
       "      <td>Alexandrie... New York</td>\n",
       "      <td>NaN</td>\n",
       "      <td>NaN</td>\n",
       "      <td>0</td>\n",
       "      <td>&lt;p&gt;A l'occasion d'un hommage qui lui est rendu...</td>\n",
       "      <td>2004</td>\n",
       "      <td>NaN</td>\n",
       "      <td>...</td>\n",
       "      <td>0.0</td>\n",
       "      <td>NaN</td>\n",
       "      <td>1.0</td>\n",
       "      <td>5.0</td>\n",
       "      <td>3.25</td>\n",
       "      <td>0.0</td>\n",
       "      <td>1.0</td>\n",
       "      <td>NaN</td>\n",
       "      <td>{\"id\":6381419,\"user_id\":1295411,\"object_id\":12...</td>\n",
       "      <td>2014-03-27 19:55:02</td>\n",
       "    </tr>\n",
       "  </tbody>\n",
       "</table>\n",
       "<p>2 rows × 28 columns</p>\n",
       "</div>"
      ],
      "text/plain": [
       "     id  node_id  version                   title original_title  \\\n",
       "0  1269   1234.0      4.0                Le Chaos     Heya fawda   \n",
       "1  1275   1240.0      2.0  Alexandrie... New York            NaN   \n",
       "\n",
       "  english_title  has_en_poster  \\\n",
       "0         Chaos              0   \n",
       "1           NaN              0   \n",
       "\n",
       "                                            synopsis  year release_date  \\\n",
       "0  Le Caire, de nos jours. Hatem, policier véreux...  2007   2007-12-05   \n",
       "1  <p>A l'occasion d'un hommage qui lui est rendu...  2004          NaN   \n",
       "\n",
       "          ...          synopsis_original score nb_mc  nb_rating avg_rating  \\\n",
       "0         ...                        0.0   NaN   0.0        4.0       0.00   \n",
       "1         ...                        0.0   NaN   1.0        5.0       3.25   \n",
       "\n",
       "  recommended_by riplay_available lowest_price  \\\n",
       "0            1.0              0.0          NaN   \n",
       "1            0.0              1.0          NaN   \n",
       "\n",
       "                                        best_mc_json    human_update_date  \n",
       "0                                                NaN  2014-03-27 19:54:53  \n",
       "1  {\"id\":6381419,\"user_id\":1295411,\"object_id\":12...  2014-03-27 19:55:02  \n",
       "\n",
       "[2 rows x 28 columns]"
      ]
     },
     "execution_count": 14,
     "metadata": {},
     "output_type": "execute_result"
    }
   ],
   "source": [
    "dfa_vod[:2]"
   ]
  },
  {
   "cell_type": "code",
   "execution_count": 18,
   "metadata": {
    "collapsed": true
   },
   "outputs": [],
   "source": [
    "dfa_full = dfa_vod.merge(dfa_tmdb, how='left', on='original_title')"
   ]
  },
  {
   "cell_type": "code",
   "execution_count": 20,
   "metadata": {},
   "outputs": [
    {
     "data": {
      "text/plain": [
       "(103594, 49)"
      ]
     },
     "execution_count": 20,
     "metadata": {},
     "output_type": "execute_result"
    }
   ],
   "source": [
    "dfa_full.shape"
   ]
  },
  {
   "cell_type": "code",
   "execution_count": 33,
   "metadata": {},
   "outputs": [
    {
     "data": {
      "text/html": [
       "<div>\n",
       "<style>\n",
       "    .dataframe thead tr:only-child th {\n",
       "        text-align: right;\n",
       "    }\n",
       "\n",
       "    .dataframe thead th {\n",
       "        text-align: left;\n",
       "    }\n",
       "\n",
       "    .dataframe tbody tr th {\n",
       "        vertical-align: top;\n",
       "    }\n",
       "</style>\n",
       "<table border=\"1\" class=\"dataframe\">\n",
       "  <thead>\n",
       "    <tr style=\"text-align: right;\">\n",
       "      <th></th>\n",
       "      <th>year</th>\n",
       "      <th>title</th>\n",
       "      <th>original_title</th>\n",
       "    </tr>\n",
       "  </thead>\n",
       "  <tbody>\n",
       "    <tr>\n",
       "      <th>20</th>\n",
       "      <td>NaN</td>\n",
       "      <td>Walk on Water</td>\n",
       "      <td>LaLehet Al HaMayim</td>\n",
       "    </tr>\n",
       "  </tbody>\n",
       "</table>\n",
       "</div>"
      ],
      "text/plain": [
       "    year          title      original_title\n",
       "20   NaN  Walk on Water  LaLehet Al HaMayim"
      ]
     },
     "execution_count": 33,
     "metadata": {},
     "output_type": "execute_result"
    }
   ],
   "source": [
    "dfa_tmdb.loc[dfa_tmdb[dfa_tmdb.title==\"Walk on Water\"].index,{\"title\",\"original_title\"}]"
   ]
  },
  {
   "cell_type": "code",
   "execution_count": 35,
   "metadata": {},
   "outputs": [
    {
     "data": {
      "text/html": [
       "<div>\n",
       "<style>\n",
       "    .dataframe thead tr:only-child th {\n",
       "        text-align: right;\n",
       "    }\n",
       "\n",
       "    .dataframe thead th {\n",
       "        text-align: left;\n",
       "    }\n",
       "\n",
       "    .dataframe tbody tr th {\n",
       "        vertical-align: top;\n",
       "    }\n",
       "</style>\n",
       "<table border=\"1\" class=\"dataframe\">\n",
       "  <thead>\n",
       "    <tr style=\"text-align: right;\">\n",
       "      <th></th>\n",
       "      <th>english_title</th>\n",
       "      <th>title</th>\n",
       "      <th>original_title</th>\n",
       "    </tr>\n",
       "  </thead>\n",
       "  <tbody>\n",
       "    <tr>\n",
       "      <th>8331</th>\n",
       "      <td>Walk on Water</td>\n",
       "      <td>Tu marcheras sur l'eau</td>\n",
       "      <td>Walk On Water</td>\n",
       "    </tr>\n",
       "  </tbody>\n",
       "</table>\n",
       "</div>"
      ],
      "text/plain": [
       "      english_title                   title original_title\n",
       "8331  Walk on Water  Tu marcheras sur l'eau  Walk On Water"
      ]
     },
     "execution_count": 35,
     "metadata": {},
     "output_type": "execute_result"
    }
   ],
   "source": [
    "dfa_vod.loc[dfa_vod[dfa_vod.english_title==\"Walk on Water\"].index,{\"title\",\"original_title\",\"english_title\"}]"
   ]
  },
  {
   "cell_type": "code",
   "execution_count": null,
   "metadata": {
    "collapsed": true
   },
   "outputs": [],
   "source": []
  }
 ],
 "metadata": {
  "kernelspec": {
   "display_name": "Python 3",
   "language": "python",
   "name": "python3"
  },
  "language_info": {
   "codemirror_mode": {
    "name": "ipython",
    "version": 3
   },
   "file_extension": ".py",
   "mimetype": "text/x-python",
   "name": "python",
   "nbconvert_exporter": "python",
   "pygments_lexer": "ipython3",
   "version": "3.6.1"
  }
 },
 "nbformat": 4,
 "nbformat_minor": 2
}
