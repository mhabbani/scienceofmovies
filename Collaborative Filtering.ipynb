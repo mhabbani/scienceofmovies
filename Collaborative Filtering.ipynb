{
 "cells": [
  {
   "cell_type": "code",
   "execution_count": 2,
   "metadata": {
    "collapsed": true
   },
   "outputs": [],
   "source": [
    "import csv\n",
    "import numpy as np\n",
    "import pandas as pd\n",
    "import matplotlib.pyplot as plt\n",
    "from datetime import datetime"
   ]
  },
  {
   "cell_type": "code",
   "execution_count": 3,
   "metadata": {},
   "outputs": [
    {
     "name": "stderr",
     "output_type": "stream",
     "text": [
      "b'Skipping line 22345: expected 28 fields, saw 29\\n'\n"
     ]
    }
   ],
   "source": [
    "# load dataset ratings (dfr) and movies (dfm)\n",
    "dfr = pd.read_csv(\"./data/vod_ratings.csv\", sep=\"\\t\",encoding=\"utf-8-sig\", error_bad_lines=False, low_memory=False)\n",
    "dfm = pd.read_csv(\"./data/vod_films.csv\", sep=\"\\t\",encoding=\"utf-8-sig\", error_bad_lines=False, low_memory=False)\n",
    "\n",
    "# Ratings : keep only user id, rating & movie id\n",
    "dfr=dfr.loc[:,{'user_id','value','object_id'}]\n",
    "dfr = dfr.rename(columns = {'value':'rating','object_id':'movie_id'})\n",
    "\n",
    "# Movies : keep only 'movie_id', 'year','nb_rating', 'avg_rating','title'\n",
    "dfm=dfm.loc[:,{'id', 'year','nb_rating', 'avg_rating','title'}]\n",
    "dfm = dfm.rename(columns = {'id':'movie_id'})"
   ]
  },
  {
   "cell_type": "code",
   "execution_count": 6,
   "metadata": {
    "collapsed": true
   },
   "outputs": [],
   "source": [
    "# Parameters\n",
    "minimum_ratings_for_user = 100\n",
    "minimum_ratings_for_movie = 100\n",
    "include_movie_bias = False"
   ]
  },
  {
   "cell_type": "code",
   "execution_count": 7,
   "metadata": {
    "collapsed": true
   },
   "outputs": [],
   "source": [
    "# Keep only ratings from users who rated > {minimum_ratings_for_user} movies\n",
    "ser=pd.DataFrame(dfr.groupby('user_id')['rating'].count().sort_values(ascending=False))\n",
    "ser = ser[ser.rating>minimum_ratings_for_user]\n",
    "temp = pd.merge(dfr, ser, left_on='user_id', right_index=True)\n",
    "dfr = temp.loc[:,{'movie_id','user_id','rating_x'}].rename(columns = {'rating_x':'rating'})\n",
    "\n",
    "# Keep only movies rated by at least > {minimum_ratings_for_movie} users\n",
    "ser=pd.DataFrame(dfr.groupby('movie_id')['rating'].count().sort_values(ascending=False))\n",
    "ser = ser[ser.rating>minimum_ratings_for_movie]\n",
    "temp = pd.merge(dfr, ser, left_on='movie_id', right_index=True)\n",
    "dfr = temp.loc[:,{'movie_id','user_id','rating_x'}].rename(columns = {'rating_x':'rating'})"
   ]
  },
  {
   "cell_type": "markdown",
   "metadata": {},
   "source": [
    "#### Centering of data by removing bias of users who rate consistently higher or lower (+same for movies)\n",
    "1. Calculer le rating moyen pour chaque film rating_moyen(film) = mean(ratings(film))\n",
    "2. Correction biais film : rating (user,film)' = rating (user,film) - rating_moyen(film)\n",
    "3. Correction biais user : rating (user,film)'' = rating (user,film)' - mean(rating (user,film)')\n",
    "4. Formule finale : rating(u,f) <- rating(u,f) - mean(ratings(film)) - mean(rating (user,film) - rating_moyen(film))"
   ]
  },
  {
   "cell_type": "code",
   "execution_count": 8,
   "metadata": {},
   "outputs": [
    {
     "data": {
      "text/html": [
       "<div>\n",
       "<style>\n",
       "    .dataframe thead tr:only-child th {\n",
       "        text-align: right;\n",
       "    }\n",
       "\n",
       "    .dataframe thead th {\n",
       "        text-align: left;\n",
       "    }\n",
       "\n",
       "    .dataframe tbody tr th {\n",
       "        vertical-align: top;\n",
       "    }\n",
       "</style>\n",
       "<table border=\"1\" class=\"dataframe\">\n",
       "  <thead>\n",
       "    <tr style=\"text-align: right;\">\n",
       "      <th></th>\n",
       "      <th>rating</th>\n",
       "      <th>movie_id</th>\n",
       "      <th>user_id</th>\n",
       "    </tr>\n",
       "  </thead>\n",
       "  <tbody>\n",
       "    <tr>\n",
       "      <th>3</th>\n",
       "      <td>-0.199712</td>\n",
       "      <td>6909</td>\n",
       "      <td>6842</td>\n",
       "    </tr>\n",
       "    <tr>\n",
       "      <th>4</th>\n",
       "      <td>0.800288</td>\n",
       "      <td>9371</td>\n",
       "      <td>6842</td>\n",
       "    </tr>\n",
       "    <tr>\n",
       "      <th>5</th>\n",
       "      <td>-1.199712</td>\n",
       "      <td>9415</td>\n",
       "      <td>6842</td>\n",
       "    </tr>\n",
       "  </tbody>\n",
       "</table>\n",
       "</div>"
      ],
      "text/plain": [
       "     rating  movie_id  user_id\n",
       "3 -0.199712      6909     6842\n",
       "4  0.800288      9371     6842\n",
       "5 -1.199712      9415     6842"
      ]
     },
     "execution_count": 8,
     "metadata": {},
     "output_type": "execute_result"
    }
   ],
   "source": [
    "if include_movie_bias:\n",
    "    #Calculer le rating moyen pour chaque film rating_moyen(film) = mean(ratings(film))\n",
    "    avg_movie_rating = pd.DataFrame(dfr.groupby('movie_id')['rating'].mean())\n",
    "\n",
    "    #Correction biais film : rating (user,film)' = rating (user,film) - rating_moyen(film)\n",
    "    temp = pd.merge(dfr, avg_movie_rating, left_on='movie_id', right_index=True)\n",
    "    temp['rating_movie_centered']=temp['rating_x']-temp['rating_y']\n",
    "    temp=temp.rename(columns = {'rating_y':'movie_avg_rating','rating_x':'rating'})\n",
    "\n",
    "    #Calcul du biais moyen des ratings user (les ratings eux même étant débiaisés vs film)\n",
    "    avg_user_rating = pd.DataFrame(temp.groupby('user_id')['rating_movie_centered'].mean())\n",
    "    temp = pd.merge(temp, avg_user_rating, left_on='user_id', right_index=True)\n",
    "    temp=temp.rename(columns = {'rating_movie_centered_x':'rating_movie_centered','rating_movie_centered_y':'bias_user_movie'})\n",
    "\n",
    "    #Centrage final : rating (user,film)'' = rating (user,film)' - mean(rating (user,film)')\n",
    "    temp['centered_rating'] = temp['rating_movie_centered']-temp['bias_user_movie']\n",
    "    temp=temp.rename(columns = {'centered_rating':'rating'})\n",
    "\n",
    "else:\n",
    "    #Calcul du biais moyen des ratings user (les ratings ne sont pas débiaisés films)\n",
    "    avg_user_rating = pd.DataFrame(dfr.groupby('user_id')['rating'].mean())\n",
    "    temp = pd.merge(dfr, avg_user_rating, left_on='user_id', right_index=True)\n",
    "    temp.rating_y = temp.rating_x-temp.rating_y\n",
    "    temp=temp.loc[:,{'user_id','rating_y','movie_id'}]\n",
    "    temp=temp.rename(columns = {'rating_y':'rating'})\n",
    "\n",
    "temp[:3]    "
   ]
  },
  {
   "cell_type": "code",
   "execution_count": 9,
   "metadata": {},
   "outputs": [
    {
     "data": {
      "text/plain": [
       "(6499, 6068)"
      ]
     },
     "execution_count": 9,
     "metadata": {},
     "output_type": "execute_result"
    }
   ],
   "source": [
    "# Creation of array USERS x PRODUCTS\n",
    "table = temp.pivot_table(values='rating', index=['user_id'],columns=['movie_id'], aggfunc=np.max, fill_value=0)\n",
    "table.shape"
   ]
  },
  {
   "cell_type": "code",
   "execution_count": 7,
   "metadata": {
    "collapsed": true
   },
   "outputs": [
    {
     "data": {
      "text/plain": [
       "'\\n@INPUT:\\n    R     : a matrix to be factorized, dimension N x M\\n    P     : an initial matrix of dimension N x K\\n    Q     : an initial matrix of dimension M x K\\n    K     : the number of latent features\\n    steps : the maximum number of steps to perform the optimisation\\n    alpha : the learning rate\\n    beta  : the regularization parameter\\n@OUTPUT:\\n    the final matrices P and Q\\n@SOURCE : http://www.quuxlabs.com/blog/2010/09/matrix-factorization-a-simple-tutorial-and-implementation-in-python/\\n'"
      ]
     },
     "execution_count": 7,
     "metadata": {},
     "output_type": "execute_result"
    }
   ],
   "source": [
    "\"\"\"\n",
    "@INPUT:\n",
    "    R     : a matrix to be factorized, dimension N x M\n",
    "    P     : an initial matrix of dimension N x K\n",
    "    Q     : an initial matrix of dimension M x K\n",
    "    K     : the number of latent features\n",
    "    steps : the maximum number of steps to perform the optimisation\n",
    "    alpha : the learning rate\n",
    "    beta  : the regularization parameter\n",
    "@OUTPUT:\n",
    "    the final matrices P and Q\n",
    "@SOURCE : http://www.quuxlabs.com/blog/2010/09/matrix-factorization-a-simple-tutorial-and-implementation-in-python/\n",
    "\"\"\""
   ]
  },
  {
   "cell_type": "code",
   "execution_count": 39,
   "metadata": {
    "collapsed": true
   },
   "outputs": [],
   "source": [
    "def matrix_factorization(R, P, Q, K, steps=5000, alpha=0.0002, beta=0.02):\n",
    "    Q = Q.T\n",
    "    for step in range(steps):\n",
    "        for i in range(len(R)):\n",
    "            for j in range(len(R[i])):\n",
    "                if R[i][j] > 0:\n",
    "                    eij = R[i][j] - np.dot(P[i,:],Q[:,j])\n",
    "                    for k in range(K):\n",
    "                        P[i][k] = P[i][k] + alpha * (2 * eij * Q[k][j] - beta * P[i][k])\n",
    "                        Q[k][j] = Q[k][j] + alpha * (2 * eij * P[i][k] - beta * Q[k][j])\n",
    "        eR = np.dot(P,Q)\n",
    "        e = 0\n",
    "        for i in range(len(R)):\n",
    "            for j in range(len(R[i])):\n",
    "                if R[i][j] > 0:\n",
    "                    e = e + pow(R[i][j] - np.dot(P[i,:],Q[:,j]), 2)\n",
    "                    for k in range(K):\n",
    "                        e = e + (beta/2) * ( pow(P[i][k],2) + pow(Q[k][j],2) )\n",
    "        \n",
    "        print(\"time {} : step {}/{}, alpha = {}, error {}\".format(str(datetime.now()),step,steps, alpha, e))\n",
    "        if e < 0.001:\n",
    "            break\n",
    "    return P, Q.T"
   ]
  },
  {
   "cell_type": "code",
   "execution_count": 40,
   "metadata": {},
   "outputs": [
    {
     "name": "stdout",
     "output_type": "stream",
     "text": [
      "time 2017-11-26 11:53:14.245471 : step 0/300, alpha = 0.0002, error 557876.4031024616\n",
      "time 2017-11-26 11:54:09.909655 : step 1/300, alpha = 0.0002, error 394500.8176216584\n",
      "time 2017-11-26 11:55:03.881742 : step 2/300, alpha = 0.0002, error 329492.3234813779\n",
      "time 2017-11-26 11:55:58.166847 : step 3/300, alpha = 0.0002, error 295337.98191056104\n",
      "time 2017-11-26 11:56:52.221939 : step 4/300, alpha = 0.0002, error 274171.16091733123\n",
      "time 2017-11-26 11:57:46.398037 : step 5/300, alpha = 0.0002, error 259592.7033195065\n",
      "time 2017-11-26 11:58:40.391126 : step 6/300, alpha = 0.0002, error 248820.089059717\n",
      "time 2017-11-26 11:59:34.620227 : step 7/300, alpha = 0.0002, error 240465.44474786756\n",
      "time 2017-11-26 12:00:28.484308 : step 8/300, alpha = 0.0002, error 233760.87564938518\n",
      "time 2017-11-26 12:01:22.733411 : step 9/300, alpha = 0.0002, error 228245.25412304065\n",
      "time 2017-11-26 12:02:16.753501 : step 10/300, alpha = 0.0002, error 223622.6884034637\n",
      "time 2017-11-26 12:03:11.033605 : step 11/300, alpha = 0.0002, error 219692.73708183237\n",
      "time 2017-11-26 12:04:04.972691 : step 12/300, alpha = 0.0002, error 216313.45729985187\n",
      "time 2017-11-26 12:04:59.178791 : step 13/300, alpha = 0.0002, error 213380.62318908668\n",
      "time 2017-11-26 12:05:53.031871 : step 14/300, alpha = 0.0002, error 210815.4109254477\n",
      "time 2017-11-26 12:06:47.308976 : step 15/300, alpha = 0.0002, error 208556.7565003334\n",
      "time 2017-11-26 12:07:41.241060 : step 16/300, alpha = 0.0002, error 206556.41486442406\n",
      "time 2017-11-26 12:08:35.518165 : step 17/300, alpha = 0.0002, error 204775.64717915023\n",
      "time 2017-11-26 12:09:29.530254 : step 18/300, alpha = 0.0002, error 203182.92706286904\n",
      "time 2017-11-26 12:10:23.858362 : step 19/300, alpha = 0.0002, error 201752.30686740665\n",
      "time 2017-11-26 12:11:17.693441 : step 20/300, alpha = 0.0002, error 200462.22499396597\n",
      "time 2017-11-26 12:12:11.914542 : step 21/300, alpha = 0.0002, error 199294.61632152257\n",
      "time 2017-11-26 12:13:05.769622 : step 22/300, alpha = 0.0002, error 198234.23627485795\n",
      "time 2017-11-26 12:14:00.085729 : step 23/300, alpha = 0.0002, error 197268.13889680876\n",
      "time 2017-11-26 12:14:54.038815 : step 24/300, alpha = 0.0002, error 196385.26817395614\n",
      "time 2017-11-26 12:15:48.257916 : step 25/300, alpha = 0.0002, error 195576.13413189864\n",
      "time 2017-11-26 12:16:42.154999 : step 26/300, alpha = 0.0002, error 194832.55337731133\n",
      "time 2017-11-26 12:17:36.502107 : step 27/300, alpha = 0.0002, error 194147.43931557258\n",
      "time 2017-11-26 12:18:30.491195 : step 28/300, alpha = 0.0002, error 193514.6311278356\n",
      "time 2017-11-26 12:19:24.680295 : step 29/300, alpha = 0.0002, error 192928.7533191584\n",
      "time 2017-11-26 12:20:18.745387 : step 30/300, alpha = 0.0002, error 192385.09961200444\n",
      "time 2017-11-26 12:21:12.989490 : step 31/300, alpha = 0.0002, error 191879.53639471682\n",
      "time 2017-11-26 12:22:06.883572 : step 32/300, alpha = 0.0002, error 191408.42199942406\n",
      "time 2017-11-26 12:23:01.034670 : step 33/300, alpha = 0.0002, error 190968.5388824006\n",
      "time 2017-11-26 12:23:55.036758 : step 34/300, alpha = 0.0002, error 190557.03638778452\n",
      "time 2017-11-26 12:24:49.207857 : step 35/300, alpha = 0.0002, error 190171.38224338242\n",
      "time 2017-11-26 12:25:43.223946 : step 36/300, alpha = 0.0002, error 189809.32129682158\n",
      "time 2017-11-26 12:26:37.430047 : step 37/300, alpha = 0.0002, error 189468.84028698385\n",
      "time 2017-11-26 12:27:31.400134 : step 38/300, alpha = 0.0002, error 189148.1376655649\n",
      "time 2017-11-26 12:28:25.677238 : step 39/300, alpha = 0.0002, error 188845.59766453787\n",
      "time 2017-11-26 12:29:19.584321 : step 40/300, alpha = 0.0002, error 188559.76794500565\n",
      "time 2017-11-26 12:30:13.775421 : step 41/300, alpha = 0.0002, error 188289.34027880587\n",
      "time 2017-11-26 12:31:07.761509 : step 42/300, alpha = 0.0002, error 188033.13380666662\n",
      "time 2017-11-26 12:32:01.991611 : step 43/300, alpha = 0.0002, error 187790.08049193994\n",
      "time 2017-11-26 12:32:55.909694 : step 44/300, alpha = 0.0002, error 187559.21245092805\n",
      "time 2017-11-26 12:33:50.041791 : step 45/300, alpha = 0.0002, error 187339.65089196325\n",
      "time 2017-11-26 12:34:44.199888 : step 46/300, alpha = 0.0002, error 187130.59643700562\n",
      "time 2017-11-26 12:35:38.529996 : step 47/300, alpha = 0.0002, error 186931.3206343305\n",
      "time 2017-11-26 12:36:32.411078 : step 48/300, alpha = 0.0002, error 186741.15850004661\n",
      "time 2017-11-26 12:37:26.605177 : step 49/300, alpha = 0.0002, error 186559.5019501696\n",
      "time 2017-11-26 12:38:20.498260 : step 50/300, alpha = 0.0002, error 186385.79400574832\n",
      "time 2017-11-26 12:39:14.744363 : step 51/300, alpha = 0.0002, error 186219.52366983518\n",
      "time 2017-11-26 12:40:08.598443 : step 52/300, alpha = 0.0002, error 186060.221389741\n",
      "time 2017-11-26 12:41:02.732539 : step 53/300, alpha = 0.0002, error 185907.45503075392\n",
      "time 2017-11-26 12:41:56.777630 : step 54/300, alpha = 0.0002, error 185760.82629704868\n",
      "time 2017-11-26 12:42:51.039734 : step 55/300, alpha = 0.0002, error 185619.9675442531\n",
      "time 2017-11-26 12:43:45.011821 : step 56/300, alpha = 0.0002, error 185484.53893642387\n",
      "time 2017-11-26 12:44:39.206921 : step 57/300, alpha = 0.0002, error 185354.22590577352\n",
      "time 2017-11-26 12:45:33.134005 : step 58/300, alpha = 0.0002, error 185228.7368789716\n",
      "time 2017-11-26 12:46:27.348106 : step 59/300, alpha = 0.0002, error 185107.80123893684\n",
      "time 2017-11-26 12:47:21.401198 : step 60/300, alpha = 0.0002, error 184991.1674950223\n",
      "time 2017-11-26 12:48:19.040495 : step 61/300, alpha = 0.0002, error 184878.60163728907\n",
      "time 2017-11-26 12:49:15.330714 : step 62/300, alpha = 0.0002, error 184769.88565481929\n",
      "time 2017-11-26 12:50:12.077960 : step 63/300, alpha = 0.0002, error 184664.81619864953\n",
      "time 2017-11-26 12:51:09.203227 : step 64/300, alpha = 0.0002, error 184563.20337458994\n",
      "time 2017-11-26 12:52:03.490332 : step 65/300, alpha = 0.0002, error 184464.86965108628\n",
      "time 2017-11-26 12:52:58.148459 : step 66/300, alpha = 0.0002, error 184369.64886968012\n",
      "time 2017-11-26 12:53:53.733638 : step 67/300, alpha = 0.0002, error 184277.38534801928\n",
      "time 2017-11-26 12:54:48.854791 : step 68/300, alpha = 0.0002, error 184187.93306422164\n",
      "time 2017-11-26 12:55:44.554976 : step 69/300, alpha = 0.0002, error 184101.1549158068\n",
      "time 2017-11-26 12:56:40.068152 : step 70/300, alpha = 0.0002, error 184016.9220445067\n",
      "time 2017-11-26 12:57:35.843342 : step 71/300, alpha = 0.0002, error 183935.11322041586\n",
      "time 2017-11-26 12:58:31.540527 : step 72/300, alpha = 0.0002, error 183855.61427989264\n",
      "time 2017-11-26 12:59:27.315718 : step 73/300, alpha = 0.0002, error 183778.31761157833\n",
      "time 2017-11-26 13:00:22.573878 : step 74/300, alpha = 0.0002, error 183703.1216862527\n",
      "time 2017-11-26 13:01:18.147057 : step 75/300, alpha = 0.0002, error 183629.930625441\n",
      "time 2017-11-26 13:02:13.631230 : step 76/300, alpha = 0.0002, error 183558.6538064249\n",
      "time 2017-11-26 13:03:09.181408 : step 77/300, alpha = 0.0002, error 183489.20549851088\n",
      "time 2017-11-26 13:04:04.651580 : step 78/300, alpha = 0.0002, error 183421.50452956205\n",
      "time 2017-11-26 13:05:00.325765 : step 79/300, alpha = 0.0002, error 183355.473978222\n",
      "time 2017-11-26 13:05:54.816881 : step 80/300, alpha = 0.0002, error 183291.0408906431\n",
      "time 2017-11-26 13:06:48.814970 : step 81/300, alpha = 0.0002, error 183228.13601935792\n",
      "time 2017-11-26 13:07:42.802058 : step 82/300, alpha = 0.0002, error 183166.69358154497\n",
      "time 2017-11-26 13:08:36.795146 : step 83/300, alpha = 0.0002, error 183106.65103624036\n",
      "time 2017-11-26 13:09:30.572222 : step 84/300, alpha = 0.0002, error 183047.94887765555\n",
      "time 2017-11-26 13:10:24.629314 : step 85/300, alpha = 0.0002, error 182990.53044416715\n",
      "time 2017-11-26 13:11:19.454450 : step 86/300, alpha = 0.0002, error 182934.34174071476\n",
      "time 2017-11-26 13:12:15.031628 : step 87/300, alpha = 0.0002, error 182879.33127454514\n",
      "time 2017-11-26 13:13:10.492801 : step 88/300, alpha = 0.0002, error 182825.44990209225\n",
      "time 2017-11-26 13:14:06.090981 : step 89/300, alpha = 0.0002, error 182772.65068727406\n",
      "time 2017-11-26 13:15:01.772166 : step 90/300, alpha = 0.0002, error 182720.88876868034\n",
      "time 2017-11-26 13:15:57.547356 : step 91/300, alpha = 0.0002, error 182670.12123696404\n",
      "time 2017-11-26 13:16:53.243541 : step 92/300, alpha = 0.0002, error 182620.3070196396\n",
      "time 2017-11-26 13:17:48.908725 : step 93/300, alpha = 0.0002, error 182571.40677420932\n"
     ]
    },
    {
     "name": "stdout",
     "output_type": "stream",
     "text": [
      "time 2017-11-26 13:18:44.336895 : step 94/300, alpha = 0.0002, error 182523.38278795365\n",
      "time 2017-11-26 13:19:40.077084 : step 95/300, alpha = 0.0002, error 182476.19888459408\n",
      "time 2017-11-26 13:20:35.654262 : step 96/300, alpha = 0.0002, error 182429.8203368423\n",
      "time 2017-11-26 13:21:31.268443 : step 97/300, alpha = 0.0002, error 182384.21378453422\n",
      "time 2017-11-26 13:22:26.890625 : step 98/300, alpha = 0.0002, error 182339.34715801355\n",
      "time 2017-11-26 13:23:22.611812 : step 99/300, alpha = 0.0002, error 182295.18960633237\n",
      "time 2017-11-26 13:24:18.147988 : step 100/300, alpha = 0.0002, error 182251.71142974374\n",
      "time 2017-11-26 13:25:13.644163 : step 101/300, alpha = 0.0002, error 182208.88401664267\n",
      "time 2017-11-26 13:26:09.145337 : step 102/300, alpha = 0.0002, error 182166.67978392815\n",
      "time 2017-11-26 13:27:04.746517 : step 103/300, alpha = 0.0002, error 182125.0721212109\n",
      "time 2017-11-26 13:28:00.383700 : step 104/300, alpha = 0.0002, error 182084.03533844868\n",
      "time 2017-11-26 13:28:56.049883 : step 105/300, alpha = 0.0002, error 182043.5446160937\n",
      "time 2017-11-26 13:29:51.759070 : step 106/300, alpha = 0.0002, error 182003.57595894882\n",
      "time 2017-11-26 13:30:47.458256 : step 107/300, alpha = 0.0002, error 181964.10615201885\n",
      "time 2017-11-26 13:31:42.832423 : step 108/300, alpha = 0.0002, error 181925.11271908152\n",
      "time 2017-11-26 13:32:38.396601 : step 109/300, alpha = 0.0002, error 181886.5738838881\n",
      "time 2017-11-26 13:33:33.789769 : step 110/300, alpha = 0.0002, error 181848.46853316773\n",
      "time 2017-11-26 13:34:29.649964 : step 111/300, alpha = 0.0002, error 181810.77618166342\n",
      "time 2017-11-26 13:35:25.140138 : step 112/300, alpha = 0.0002, error 181773.47693957246\n",
      "time 2017-11-26 13:36:19.656256 : step 113/300, alpha = 0.0002, error 181736.5514811177\n",
      "time 2017-11-26 13:37:13.636344 : step 114/300, alpha = 0.0002, error 181699.98101553353\n",
      "time 2017-11-26 13:38:07.713437 : step 115/300, alpha = 0.0002, error 181663.74725890698\n",
      "time 2017-11-26 13:39:01.612520 : step 116/300, alpha = 0.0002, error 181627.83240801643\n",
      "time 2017-11-26 13:39:55.648610 : step 117/300, alpha = 0.0002, error 181592.21911540304\n",
      "time 2017-11-26 13:40:49.605697 : step 118/300, alpha = 0.0002, error 181556.89046587943\n",
      "time 2017-11-26 13:41:43.671789 : step 119/300, alpha = 0.0002, error 181521.8299539918\n",
      "time 2017-11-26 13:42:37.697879 : step 120/300, alpha = 0.0002, error 181487.02146303\n",
      "time 2017-11-26 13:43:31.664966 : step 121/300, alpha = 0.0002, error 181452.44924495462\n",
      "time 2017-11-26 13:44:25.784061 : step 122/300, alpha = 0.0002, error 181418.0979013457\n",
      "time 2017-11-26 13:45:19.954160 : step 123/300, alpha = 0.0002, error 181383.95236546523\n",
      "time 2017-11-26 13:46:13.860243 : step 124/300, alpha = 0.0002, error 181349.9978852196\n",
      "time 2017-11-26 13:47:07.834330 : step 125/300, alpha = 0.0002, error 181316.22000703105\n",
      "time 2017-11-26 13:48:01.866420 : step 126/300, alpha = 0.0002, error 181282.6045605402\n",
      "time 2017-11-26 13:48:55.885510 : step 127/300, alpha = 0.0002, error 181249.13764420705\n",
      "time 2017-11-26 13:49:49.800594 : step 128/300, alpha = 0.0002, error 181215.80561149016\n",
      "time 2017-11-26 13:50:43.888688 : step 129/300, alpha = 0.0002, error 181182.5950581325\n",
      "time 2017-11-26 13:51:37.774770 : step 130/300, alpha = 0.0002, error 181149.4928097789\n",
      "time 2017-11-26 13:52:31.863863 : step 131/300, alpha = 0.0002, error 181116.4859105221\n",
      "time 2017-11-26 13:53:25.767947 : step 132/300, alpha = 0.0002, error 181083.5616120153\n"
     ]
    },
    {
     "ename": "KeyboardInterrupt",
     "evalue": "",
     "output_type": "error",
     "traceback": [
      "\u001b[1;31m---------------------------------------------------------------------------\u001b[0m",
      "\u001b[1;31mKeyboardInterrupt\u001b[0m                         Traceback (most recent call last)",
      "\u001b[1;32m<ipython-input-40-adf496854c36>\u001b[0m in \u001b[0;36m<module>\u001b[1;34m()\u001b[0m\n\u001b[0;32m     10\u001b[0m \u001b[0mQ\u001b[0m \u001b[1;33m=\u001b[0m \u001b[0mnp\u001b[0m\u001b[1;33m.\u001b[0m\u001b[0mrandom\u001b[0m\u001b[1;33m.\u001b[0m\u001b[0mrand\u001b[0m\u001b[1;33m(\u001b[0m\u001b[0mM\u001b[0m\u001b[1;33m,\u001b[0m\u001b[0mK\u001b[0m\u001b[1;33m)\u001b[0m\u001b[1;33m\u001b[0m\u001b[0m\n\u001b[0;32m     11\u001b[0m \u001b[1;33m\u001b[0m\u001b[0m\n\u001b[1;32m---> 12\u001b[1;33m \u001b[0mnP\u001b[0m\u001b[1;33m,\u001b[0m \u001b[0mnQ\u001b[0m \u001b[1;33m=\u001b[0m \u001b[0mmatrix_factorization\u001b[0m\u001b[1;33m(\u001b[0m\u001b[0mR\u001b[0m\u001b[1;33m,\u001b[0m \u001b[0mP\u001b[0m\u001b[1;33m,\u001b[0m \u001b[0mQ\u001b[0m\u001b[1;33m,\u001b[0m \u001b[0mK\u001b[0m\u001b[1;33m,\u001b[0m\u001b[0msteps\u001b[0m \u001b[1;33m=\u001b[0m \u001b[1;36m300\u001b[0m\u001b[1;33m,\u001b[0m \u001b[0malpha\u001b[0m\u001b[1;33m=\u001b[0m\u001b[1;36m0.0002\u001b[0m\u001b[1;33m)\u001b[0m\u001b[1;33m\u001b[0m\u001b[0m\n\u001b[0m\u001b[0;32m     13\u001b[0m \u001b[1;31m#nR = np.dot(nP, nQ.T)\u001b[0m\u001b[1;33m\u001b[0m\u001b[1;33m\u001b[0m\u001b[0m\n",
      "\u001b[1;32m<ipython-input-39-68a6684ced98>\u001b[0m in \u001b[0;36mmatrix_factorization\u001b[1;34m(R, P, Q, K, steps, alpha, beta)\u001b[0m\n\u001b[0;32m      5\u001b[0m             \u001b[1;32mfor\u001b[0m \u001b[0mj\u001b[0m \u001b[1;32min\u001b[0m \u001b[0mrange\u001b[0m\u001b[1;33m(\u001b[0m\u001b[0mlen\u001b[0m\u001b[1;33m(\u001b[0m\u001b[0mR\u001b[0m\u001b[1;33m[\u001b[0m\u001b[0mi\u001b[0m\u001b[1;33m]\u001b[0m\u001b[1;33m)\u001b[0m\u001b[1;33m)\u001b[0m\u001b[1;33m:\u001b[0m\u001b[1;33m\u001b[0m\u001b[0m\n\u001b[0;32m      6\u001b[0m                 \u001b[1;32mif\u001b[0m \u001b[0mR\u001b[0m\u001b[1;33m[\u001b[0m\u001b[0mi\u001b[0m\u001b[1;33m]\u001b[0m\u001b[1;33m[\u001b[0m\u001b[0mj\u001b[0m\u001b[1;33m]\u001b[0m \u001b[1;33m>\u001b[0m \u001b[1;36m0\u001b[0m\u001b[1;33m:\u001b[0m\u001b[1;33m\u001b[0m\u001b[0m\n\u001b[1;32m----> 7\u001b[1;33m                     \u001b[0meij\u001b[0m \u001b[1;33m=\u001b[0m \u001b[0mR\u001b[0m\u001b[1;33m[\u001b[0m\u001b[0mi\u001b[0m\u001b[1;33m]\u001b[0m\u001b[1;33m[\u001b[0m\u001b[0mj\u001b[0m\u001b[1;33m]\u001b[0m \u001b[1;33m-\u001b[0m \u001b[0mnp\u001b[0m\u001b[1;33m.\u001b[0m\u001b[0mdot\u001b[0m\u001b[1;33m(\u001b[0m\u001b[0mP\u001b[0m\u001b[1;33m[\u001b[0m\u001b[0mi\u001b[0m\u001b[1;33m,\u001b[0m\u001b[1;33m:\u001b[0m\u001b[1;33m]\u001b[0m\u001b[1;33m,\u001b[0m\u001b[0mQ\u001b[0m\u001b[1;33m[\u001b[0m\u001b[1;33m:\u001b[0m\u001b[1;33m,\u001b[0m\u001b[0mj\u001b[0m\u001b[1;33m]\u001b[0m\u001b[1;33m)\u001b[0m\u001b[1;33m\u001b[0m\u001b[0m\n\u001b[0m\u001b[0;32m      8\u001b[0m                     \u001b[1;32mfor\u001b[0m \u001b[0mk\u001b[0m \u001b[1;32min\u001b[0m \u001b[0mrange\u001b[0m\u001b[1;33m(\u001b[0m\u001b[0mK\u001b[0m\u001b[1;33m)\u001b[0m\u001b[1;33m:\u001b[0m\u001b[1;33m\u001b[0m\u001b[0m\n\u001b[0;32m      9\u001b[0m                         \u001b[0mP\u001b[0m\u001b[1;33m[\u001b[0m\u001b[0mi\u001b[0m\u001b[1;33m]\u001b[0m\u001b[1;33m[\u001b[0m\u001b[0mk\u001b[0m\u001b[1;33m]\u001b[0m \u001b[1;33m=\u001b[0m \u001b[0mP\u001b[0m\u001b[1;33m[\u001b[0m\u001b[0mi\u001b[0m\u001b[1;33m]\u001b[0m\u001b[1;33m[\u001b[0m\u001b[0mk\u001b[0m\u001b[1;33m]\u001b[0m \u001b[1;33m+\u001b[0m \u001b[0malpha\u001b[0m \u001b[1;33m*\u001b[0m \u001b[1;33m(\u001b[0m\u001b[1;36m2\u001b[0m \u001b[1;33m*\u001b[0m \u001b[0meij\u001b[0m \u001b[1;33m*\u001b[0m \u001b[0mQ\u001b[0m\u001b[1;33m[\u001b[0m\u001b[0mk\u001b[0m\u001b[1;33m]\u001b[0m\u001b[1;33m[\u001b[0m\u001b[0mj\u001b[0m\u001b[1;33m]\u001b[0m \u001b[1;33m-\u001b[0m \u001b[0mbeta\u001b[0m \u001b[1;33m*\u001b[0m \u001b[0mP\u001b[0m\u001b[1;33m[\u001b[0m\u001b[0mi\u001b[0m\u001b[1;33m]\u001b[0m\u001b[1;33m[\u001b[0m\u001b[0mk\u001b[0m\u001b[1;33m]\u001b[0m\u001b[1;33m)\u001b[0m\u001b[1;33m\u001b[0m\u001b[0m\n",
      "\u001b[1;31mKeyboardInterrupt\u001b[0m: "
     ]
    }
   ],
   "source": [
    "#Factorization of matrix using 5 hidden factors\n",
    "R = table.values\n",
    "R = np.array(R)\n",
    "\n",
    "N = len(R)\n",
    "M = len(R[0])\n",
    "K = 7\n",
    "\n",
    "P = np.random.rand(N,K)\n",
    "Q = np.random.rand(M,K)\n",
    "\n",
    "nP, nQ = matrix_factorization(R, P, Q, K,steps = 300, alpha=0.0002)\n",
    "#nR = np.dot(nP, nQ.T)"
   ]
  },
  {
   "cell_type": "code",
   "execution_count": null,
   "metadata": {
    "collapsed": true
   },
   "outputs": [],
   "source": [
    "import pickle\n",
    "pickle.dump(nP, open( \"nP.p\", \"wb\" ) )\n",
    "pickle.dump(nQ, open( \"nQ.p\", \"wb\" ) )"
   ]
  },
  {
   "cell_type": "code",
   "execution_count": null,
   "metadata": {
    "collapsed": true
   },
   "outputs": [],
   "source": [
    "nPP = pickle.load( open( \"nP.p\", \"rb\" ))\n",
    "nQQ = pickle.load( open( \"nQ.p\", \"rb\" ))\n",
    "test = pd.DataFrame( np.dot(nP, nQ.T))"
   ]
  },
  {
   "cell_type": "code",
   "execution_count": null,
   "metadata": {
    "collapsed": true
   },
   "outputs": [],
   "source": []
  }
 ],
 "metadata": {
  "kernelspec": {
   "display_name": "Python 3",
   "language": "python",
   "name": "python3"
  },
  "language_info": {
   "codemirror_mode": {
    "name": "ipython",
    "version": 3
   },
   "file_extension": ".py",
   "mimetype": "text/x-python",
   "name": "python",
   "nbconvert_exporter": "python",
   "pygments_lexer": "ipython3",
   "version": "3.6.1"
  }
 },
 "nbformat": 4,
 "nbformat_minor": 2
}
