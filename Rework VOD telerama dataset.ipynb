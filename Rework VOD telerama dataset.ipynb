{
 "cells": [
  {
   "cell_type": "code",
   "execution_count": 1,
   "metadata": {
    "collapsed": true
   },
   "outputs": [],
   "source": [
    "import csv\n",
    "import numpy as np\n",
    "import pandas as pd\n",
    "import matplotlib.pyplot as plt\n",
    "\n",
    "df = pd.read_csv(\"./data/telerama.csv\",sep=\"\\t\",encoding=\"utf-8\", error_bad_lines=False, low_memory=False)"
   ]
  },
  {
   "cell_type": "code",
   "execution_count": 2,
   "metadata": {},
   "outputs": [],
   "source": [
    "for i in range(0,len(df)):\n",
    "    #récupération de la note\n",
    "    position = df.loc[i,'telerama_json'].find(\"note\")\n",
    "    note=-1\n",
    "    if position>0:\n",
    "        note = df.loc[i,'telerama_json'][position+6:position+7]\n",
    "    df.loc[i,'note']=note\n",
    "    \n",
    "    #récupération du titre\n",
    "    position1 = df.loc[i,'telerama_json'].find(\"titre\")+8\n",
    "    position2 = df.loc[i,'telerama_json'].find(\"genre\")-3\n",
    "    titre=\"\"\n",
    "    if position1>8 and position1<position2:\n",
    "        titre = df.loc[i,'telerama_json'][position1:position2]\n",
    "    df.loc[i,'titre']=titre\n",
    "\n",
    "    #récupération de l'id imdb\n",
    "    position1 = df.loc[i,'telerama_json'].find(\"id_imdb\")+10\n",
    "    position2 = df.loc[i,'telerama_json'].find(\"titre\")-3\n",
    "    id_imdb=\"\"\n",
    "    if position1>10 and position1<position2:\n",
    "        id_imdb = df.loc[i,'telerama_json'][position1:position2]\n",
    "    df.loc[i,'id_imdb']=id_imdb"
   ]
  },
  {
   "cell_type": "code",
   "execution_count": 3,
   "metadata": {},
   "outputs": [
    {
     "data": {
      "text/html": [
       "<div>\n",
       "<style>\n",
       "    .dataframe thead tr:only-child th {\n",
       "        text-align: right;\n",
       "    }\n",
       "\n",
       "    .dataframe thead th {\n",
       "        text-align: left;\n",
       "    }\n",
       "\n",
       "    .dataframe tbody tr th {\n",
       "        vertical-align: top;\n",
       "    }\n",
       "</style>\n",
       "<table border=\"1\" class=\"dataframe\">\n",
       "  <thead>\n",
       "    <tr style=\"text-align: right;\">\n",
       "      <th></th>\n",
       "      <th>vk_id</th>\n",
       "      <th>telerama_id</th>\n",
       "      <th>reference_url</th>\n",
       "      <th>note</th>\n",
       "      <th>titre</th>\n",
       "      <th>id_imdb</th>\n",
       "    </tr>\n",
       "  </thead>\n",
       "  <tbody>\n",
       "    <tr>\n",
       "      <th>0</th>\n",
       "      <td>234358</td>\n",
       "      <td>30182</td>\n",
       "      <td>http://television.telerama.fr/tele/programmes-...</td>\n",
       "      <td>4</td>\n",
       "      <td>Harvey</td>\n",
       "      <td>0042546</td>\n",
       "    </tr>\n",
       "    <tr>\n",
       "      <th>1</th>\n",
       "      <td>90518</td>\n",
       "      <td>30182</td>\n",
       "      <td>http://www.telerama.fr/cinema/films/l-ecureuil...</td>\n",
       "      <td>1</td>\n",
       "      <td>L'\\u00c9cureuil rouge</td>\n",
       "      <td>0106305</td>\n",
       "    </tr>\n",
       "    <tr>\n",
       "      <th>2</th>\n",
       "      <td>9080</td>\n",
       "      <td>4536</td>\n",
       "      <td>http://www.telerama.fr/cinema/films/l-aurore,4...</td>\n",
       "      <td>5</td>\n",
       "      <td>L'Aurore</td>\n",
       "      <td>0018455</td>\n",
       "    </tr>\n",
       "    <tr>\n",
       "      <th>3</th>\n",
       "      <td>9873</td>\n",
       "      <td>49288</td>\n",
       "      <td>http://television.telerama.fr/tele/programmes-...</td>\n",
       "      <td>5</td>\n",
       "      <td>Le parrain</td>\n",
       "      <td>0068646</td>\n",
       "    </tr>\n",
       "    <tr>\n",
       "      <th>4</th>\n",
       "      <td>6167</td>\n",
       "      <td>19773</td>\n",
       "      <td>http://television.telerama.fr/tele/programmes-...</td>\n",
       "      <td>4</td>\n",
       "      <td>Douze hommes en col\\u00e8re</td>\n",
       "      <td>0050083</td>\n",
       "    </tr>\n",
       "    <tr>\n",
       "      <th>5</th>\n",
       "      <td>61253</td>\n",
       "      <td>7573</td>\n",
       "      <td>http://www.telerama.fr/cinema/films/psychose,7...</td>\n",
       "      <td>5</td>\n",
       "      <td>Psychose</td>\n",
       "      <td>0054215</td>\n",
       "    </tr>\n",
       "    <tr>\n",
       "      <th>6</th>\n",
       "      <td>70089</td>\n",
       "      <td>16762</td>\n",
       "      <td>http://www.telerama.fr/cinema/films/la-nuit-du...</td>\n",
       "      <td>5</td>\n",
       "      <td>La Nuit du chasseur</td>\n",
       "      <td>0048424</td>\n",
       "    </tr>\n",
       "    <tr>\n",
       "      <th>7</th>\n",
       "      <td>56670</td>\n",
       "      <td>228880</td>\n",
       "      <td>http://television.telerama.fr/tele/programmes-...</td>\n",
       "      <td>5</td>\n",
       "      <td>M le Maudit</td>\n",
       "      <td>0022100</td>\n",
       "    </tr>\n",
       "    <tr>\n",
       "      <th>8</th>\n",
       "      <td>11141</td>\n",
       "      <td>6615</td>\n",
       "      <td>http://www.telerama.fr/cinema/films/les-temps-...</td>\n",
       "      <td>5</td>\n",
       "      <td>Les Temps modernes</td>\n",
       "      <td>0027977</td>\n",
       "    </tr>\n",
       "    <tr>\n",
       "      <th>9</th>\n",
       "      <td>7233</td>\n",
       "      <td>8699</td>\n",
       "      <td>http://www.telerama.fr/cinema/films/il-etait-u...</td>\n",
       "      <td>4</td>\n",
       "      <td>Il \\u00e9tait une fois dans l'Ouest</td>\n",
       "      <td>0064116</td>\n",
       "    </tr>\n",
       "  </tbody>\n",
       "</table>\n",
       "</div>"
      ],
      "text/plain": [
       "    vk_id  telerama_id                                      reference_url  \\\n",
       "0  234358        30182  http://television.telerama.fr/tele/programmes-...   \n",
       "1   90518        30182  http://www.telerama.fr/cinema/films/l-ecureuil...   \n",
       "2    9080         4536  http://www.telerama.fr/cinema/films/l-aurore,4...   \n",
       "3    9873        49288  http://television.telerama.fr/tele/programmes-...   \n",
       "4    6167        19773  http://television.telerama.fr/tele/programmes-...   \n",
       "5   61253         7573  http://www.telerama.fr/cinema/films/psychose,7...   \n",
       "6   70089        16762  http://www.telerama.fr/cinema/films/la-nuit-du...   \n",
       "7   56670       228880  http://television.telerama.fr/tele/programmes-...   \n",
       "8   11141         6615  http://www.telerama.fr/cinema/films/les-temps-...   \n",
       "9    7233         8699  http://www.telerama.fr/cinema/films/il-etait-u...   \n",
       "\n",
       "   note                                titre  id_imdb  \n",
       "0     4                               Harvey  0042546  \n",
       "1     1                L'\\u00c9cureuil rouge  0106305  \n",
       "2     5                             L'Aurore  0018455  \n",
       "3     5                           Le parrain  0068646  \n",
       "4     4          Douze hommes en col\\u00e8re  0050083  \n",
       "5     5                             Psychose  0054215  \n",
       "6     5                  La Nuit du chasseur  0048424  \n",
       "7     5                          M le Maudit  0022100  \n",
       "8     5                   Les Temps modernes  0027977  \n",
       "9     4  Il \\u00e9tait une fois dans l'Ouest  0064116  "
      ]
     },
     "execution_count": 3,
     "metadata": {},
     "output_type": "execute_result"
    }
   ],
   "source": [
    "#on droppe les colonnes à la con et on cast les notes en integer\n",
    "df.drop(\"telerama_json\",axis=1,inplace=True)\n",
    "df.note = pd.to_numeric(df.note, errors='coerce').fillna(-1).astype(np.int64)\n",
    "df[:10]\n"
   ]
  },
  {
   "cell_type": "code",
   "execution_count": 4,
   "metadata": {},
   "outputs": [
    {
     "data": {
      "image/png": "[encoded data removed]",
      "text/plain": [
       "<matplotlib.figure.Figure at 0xb9ddb00>"
      ]
     },
     "metadata": {},
     "output_type": "display_data"
    }
   ],
   "source": [
    "# Distrib des ratings telerama sans les lignes sans note (0 ou -1)\n",
    "plt.hist(df[df.note>0].note,bins=[1,2,3,4,5])\n",
    "plt.xlabel(\"rating\")\n",
    "plt.ylabel(\"# of movies\")\n",
    "plt.title(\"Distribution of telerama ratings (moyenne = {})\".format(df[df.note>0].note.mean()))\n",
    "\n",
    "#On affiche\n",
    "plt.show()"
   ]
  },
  {
   "cell_type": "code",
   "execution_count": 5,
   "metadata": {},
   "outputs": [
    {
     "name": "stderr",
     "output_type": "stream",
     "text": [
      "b'Skipping line 22345: expected 28 fields, saw 29\\n'\n"
     ]
    }
   ],
   "source": [
    "#distribution des données télérama par année de film\n",
    "dff = pd.read_csv(\"./data/vod_films.csv\",sep=\"\\t\",encoding=\"utf-8\", error_bad_lines=False, low_memory=False)\n",
    "dff = dff.loc[:,{\"id\",\"year\",\"title\",\"score\"}]\n",
    "dff=dff.rename(columns = {'id':'vk_id'})\n",
    "df = df.merge(dff,how='inner',on='vk_id')\n",
    "\n",
    "#dernier nettoyage, renommage des colonnes & normalisation des scores (note telerama x20)\n",
    "df = df.loc[:,{\"vk_id\",\"note\",\"id_imdb\",\"score\",\"year\",\"title\"}]\n",
    "df=df.rename(columns = {'id':'vk_id'})\n",
    "df=df.rename(columns = {'note':'score_telerama'})\n",
    "df=df.rename(columns = {'score':'score_vodkaster'})\n",
    "df.score_telerama=df.score_telerama*20\n",
    "df.year = pd.to_numeric(df.year, errors='coerce').fillna(-1).astype(np.int64)"
   ]
  },
  {
   "cell_type": "code",
   "execution_count": 6,
   "metadata": {},
   "outputs": [
    {
     "data": {
      "image/png": "[encoded data removed]",
      "text/plain": [
       "<matplotlib.figure.Figure at 0xa656e48>"
      ]
     },
     "metadata": {},
     "output_type": "display_data"
    }
   ],
   "source": [
    "#testons scatterplot telerama/vodkaster\n",
    "df2 = df[df.score_telerama>0]\n",
    "plt.scatter(df2.score_telerama,df2.score_vodkaster)\n",
    "plt.xlabel(\"score telerama\")\n",
    "plt.ylabel(\"score vodkaster\")\n",
    "plt.title(\"relation score telerama/vodkaster\")\n",
    "plt.show()\n",
    "\n",
    "#Conclusion : MOCHE, faut que je fasse une heatmap pour que ce soit plus lisible"
   ]
  },
  {
   "cell_type": "code",
   "execution_count": 16,
   "metadata": {},
   "outputs": [
    {
     "data": {
      "image/png": "[encoded data removed]",
      "text/plain": [
       "<matplotlib.figure.Figure at 0xa2d4978>"
      ]
     },
     "metadata": {},
     "output_type": "display_data"
    }
   ],
   "source": [
    "# Distrib des entrées telerama par an\n",
    "plt.hist(df.year,bins = range (1900,2017))\n",
    "plt.xlabel(\"year\")\n",
    "plt.ylabel(\"# of movies\")\n",
    "plt.title(\"Distribution of telerama entries by year\")\n",
    "\n",
    "#On affiche\n",
    "plt.show()"
   ]
  },
  {
   "cell_type": "code",
   "execution_count": 17,
   "metadata": {},
   "outputs": [],
   "source": [
    "df.to_csv(\"telerama_cleaned.csv\",sep=\",\")"
   ]
  },
  {
   "cell_type": "code",
   "execution_count": null,
   "metadata": {
    "collapsed": true
   },
   "outputs": [],
   "source": []
  }
 ],
 "metadata": {
  "kernelspec": {
   "display_name": "Python 3",
   "language": "python",
   "name": "python3"
  },
  "language_info": {
   "codemirror_mode": {
    "name": "ipython",
    "version": 3
   },
   "file_extension": ".py",
   "mimetype": "text/x-python",
   "name": "python",
   "nbconvert_exporter": "python",
   "pygments_lexer": "ipython3",
   "version": "3.6.1"
  }
 },
 "nbformat": 4,
 "nbformat_minor": 2
}
